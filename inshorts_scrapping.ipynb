{
  "cells": [
    {
      "cell_type": "markdown",
      "metadata": {
        "id": "view-in-github",
        "colab_type": "text"
      },
      "source": [
        "<a href=\"https://colab.research.google.com/github/abdullahnizami77/inshorts-scraping/blob/main/inshorts_scrapping.ipynb\" target=\"_parent\"><img src=\"https://colab.research.google.com/assets/colab-badge.svg\" alt=\"Open In Colab\"/></a>"
      ]
    },
    {
      "cell_type": "markdown",
      "source": [
        "#Modular un-updated code"
      ],
      "metadata": {
        "id": "7u_YqPAwrce8"
      }
    },
    {
      "cell_type": "code",
      "source": [
        "import urllib.request\n",
        "import urllib\n",
        "import urllib.parse\n",
        "from bs4 import BeautifulSoup\n",
        "from urllib.parse import quote\n",
        "import os\n",
        "import time\n",
        "import sys\n",
        "import random\n",
        "import string\n",
        "import re\n",
        "\n",
        "def myquote(quote_page):\n",
        "    url = urllib.parse.urlsplit(quote_page)\n",
        "    url = list(url)\n",
        "    url[2] = urllib.parse.quote(url[2])\n",
        "    url = urllib.parse.urlunsplit(url)\n",
        "    return url\n",
        "\n",
        "try:\n",
        "    if \"hindi\" in str(sys.argv[1]).lower():\n",
        "        file_name = \"/content/links.txt\"\n",
        "        destination_path = \"/content/dataset/hindi/\"\n",
        "        full_ds_path = \"/content/inshorts-dataset-hi/\"\n",
        "    else:\n",
        "        file_name = \"/content/links.txt\"\n",
        "        destination_path = \"/content/dataset/english/\"\n",
        "        full_ds_path = \"/content/inshorts-dataset-en/\"\n",
        "\n",
        "except:\n",
        "    print(\"\\tPlease provide 'Hindi' or 'English' after the command. Exit and run again.\")\n",
        "    input()\n",
        "    exit()\n",
        "\n",
        "os.makedirs(destination_path, exist_ok=True)\n",
        "os.makedirs(full_ds_path, exist_ok=True)\n",
        "\n",
        "linkfile = open(file_name, \"r\")\n",
        "links = linkfile.readlines()\n",
        "\n",
        "i = 0\n",
        "user_agent = 'Mozilla/5.0 (Windows; U; Windows NT 5.1; en-US; rv:1.9.0.7) Gecko/2009021910 Firefox/3.0.7'\n",
        "headers = {'User-Agent': user_agent}\n",
        "k = 1\n",
        "\n",
        "display_top_n = 5\n",
        "\n",
        "for link_number, quote_page in enumerate(links, start=1):\n",
        "    quote_page = quote_page.strip()\n",
        "\n",
        "    if quote_page.count('http') > 1:\n",
        "        continue\n",
        "\n",
        "    print(f\"Processing link {link_number}/{len(links)}: {quote_page}\")\n",
        "\n",
        "    try:\n",
        "        page = urllib.request.urlopen(myquote(quote_page))\n",
        "    except Exception as e:\n",
        "        print(e)\n",
        "        input('wait1')\n",
        "        continue\n",
        "\n",
        "    if \"FILE_TERMINATES_HERE\" in quote_page:\n",
        "        break\n",
        "\n",
        "    rstring = ''.join(random.choices(string.ascii_uppercase, k=4))\n",
        "    dtstring = os.path.join(destination_path, re.search(r'\\d+$', quote_page)[0] + rstring + \".txt\")\n",
        "    dtstring2 = os.path.join(full_ds_path, re.search(r'\\d+$', quote_page)[0] + rstring + \".txt\")\n",
        "\n",
        "    file = open(dtstring, 'w')\n",
        "    article_len = 0\n",
        "\n",
        "    try:\n",
        "        soup = BeautifulSoup(page, 'html.parser')\n",
        "        selected_div = None\n",
        "        for div in soup.findAll('div'):\n",
        "            if div.text and 'read more at' in div.find(text=True):\n",
        "                selected_div = div\n",
        "                break\n",
        "        urlink = selected_div.find(\"a\", target=\"_blank\")['href']\n",
        "        request = urllib.request.Request(urlink, None, headers)\n",
        "        response = urllib.request.urlopen(request)\n",
        "        soup2 = BeautifulSoup(response, 'html.parser')\n",
        "        file.write(\"#originalArticleHeadline\" + \"\\n\")\n",
        "\n",
        "        if \"hindustantimes.com\" in urlink:\n",
        "            hlist = soup2.find('h1')\n",
        "            hlist2 = soup2.find('h2')\n",
        "            file.write(hlist.text + \"\\n\")\n",
        "            file.write(hlist2.text + \"\\n\")\n",
        "\n",
        "            file.write(\"#originalArticleBody\" + \"\\n\")\n",
        "            table = soup2.findAll('div', attrs={\"class\": \"story-content\"})\n",
        "            for x in table:\n",
        "                for p in x.findAll('p'):\n",
        "                    file.write(p.text + \"\\n\")\n",
        "\n",
        "        elif \"inextlive.com\" in urlink:\n",
        "          hlist = soup2.find('h1')\n",
        "          file.write(\"#originalArticleHeadline\" + \"\\n\")\n",
        "          file.write(hlist.text + \"\\n\")\n",
        "          file.write(\"#originalArticleBody\" + \"\\n\")\n",
        "          article = soup2.findAll('p')\n",
        "          for a in article:\n",
        "            if \"Copyright © 2023. All Rights Reserved\" not in a.text:\n",
        "              file.write(a.text + \"\\n\")\n",
        "\n",
        "\n",
        "        elif \"amarujala.com\" in urlink:\n",
        "            hlist = soup2.find('h1')\n",
        "            #hlist2 = soup2.find('h2')\n",
        "            file.write(hlist.text + \"\\n\")\n",
        "            #file.write(hlist2.text + \"\\n\")\n",
        "\n",
        "            file.write(\"#originalArticleBody\" + \"\\n\")\n",
        "            table = soup2.findAll('div', attrs={\"class\": \"article-desc ul_styling\"})\n",
        "            for x in table:\n",
        "                for p in x.findAll('p'):\n",
        "                    file.write(p.text + \"\\n\")\n",
        "\n",
        "        # I Will Add more website-specific parsing logic here as needed\n",
        "\n",
        "        else:\n",
        "            hlist = soup2.find('h1')\n",
        "            file.write(hlist.text + \"\\n\")\n",
        "            file.write(\"#originalArticleBody\" + \"\\n\")\n",
        "            article = soup2.findAll('p')\n",
        "            for a in article:\n",
        "                file.write(a.text + \"\\n\")\n",
        "    except Exception as e:\n",
        "        print('Abdullah Error', e)\n",
        "        #input('wait')\n",
        "        file.close()\n",
        "        os.remove(dtstring)\n",
        "        print('  --> Waiting of 1 sec. Press Ctrl+C to exit', dtstring, ' ' * 90, end='\\r')\n",
        "        time.sleep(1)\n",
        "        continue\n",
        "\n",
        "    file.write(\"\\n\")\n",
        "    file.write(\"-\" * 100 + \"\\n\")\n",
        "    file.write(\"#summaryHeadline\\n\" + soup.find(\"span\", itemprop=\"headline\").text.strip() + \"\\n\")\n",
        "    file.write(\"#summaryBody\\n\" + soup.find(\"div\", itemprop=\"articleBody\").text.strip() + \"\\n\")\n",
        "    file.write(\"#datePublished \" + soup.find(\"span\", itemprop=\"datePublished\").text.strip() + \" \")\n",
        "    file.write(soup.find(\"span\", clas=\"date\").text.strip() + \"\\n\")\n",
        "    #file.write(soup.find(\"span\", attrs={'class': 'short'}).text.strip() + \" by \" + soup.find(\"span\", attrs={\n",
        "        #'class': 'author'}).text.strip() + \" from News inShorts\\n\")\n",
        "    file.write(\"#reference_link: \" + quote_page + \"\\n\")\n",
        "    file.write(\"#original_link: \" + urlink)\n",
        "    file.close()\n",
        "\n",
        "    print('dtstring', dtstring)\n",
        "    #input('wait')\n",
        "\n",
        "    print(str(link_number) + \" \" + quote_page[29:-14] + \"\\n    Article and Summary pulled!\" + \" \" + datetime.datetime.now().strftime(\n",
        "        \"%H:%M:%S\") + ' ' * 100 + '\\n    file ' + dtstring2 + ' ' + \" \" * 100 + '\\n' + '-' * 50 + ' ' * 100)\n",
        "    if (k % display_top_n == 0):\n",
        "        print(\"\\033[A\" * (display_top_n * 4), end='')\n",
        "\n",
        "    k += 1\n",
        "\n",
        "print(\"\\n\" * 7 + str(k - 1) + \" Articles and their summaries pulled!\")\n"
      ],
      "metadata": {
        "colab": {
          "base_uri": "https://localhost:8080/"
        },
        "id": "JTQQTrU94LPe",
        "outputId": "843fcbe6-34a4-44f3-b1f2-39e1f4e8c122"
      },
      "execution_count": null,
      "outputs": [
        {
          "output_type": "stream",
          "name": "stdout",
          "text": [
            "Processing link 1/20: https://inshorts.com/hi/news/डेरा-सच्चा-सौदा-प्रमुख-गुरमीत-राम-रहीम-सिंह-अनुयायी-की-हत्या-के-लिए-दोषी-करार-1633677650409\n"
          ]
        },
        {
          "output_type": "stream",
          "name": "stderr",
          "text": [
            "<ipython-input-4-e28e4098310b>:77: DeprecationWarning: The 'text' argument to find()-type methods is deprecated. Use 'string' instead.\n",
            "  if div.text and 'read more at' in div.find(text=True):\n"
          ]
        },
        {
          "output_type": "stream",
          "name": "stdout",
          "text": [
            "dtstring /content/dataset/english/1633677650409KHMW.txt\n",
            "1 डेरा-सच्चा-सौदा-प्रमुख-गुरमीत-राम-रहीम-सिंह-अनुयायी-की-हत्या-के-लिए-दोषी-करार\n",
            "    Article and Summary pulled! 19:07:58                                                                                                    \n",
            "    file /content/inshorts-dataset-en/1633677650409KHMW.txt                                                                                                     \n",
            "--------------------------------------------------                                                                                                    \n",
            "Processing link 2/20: https://inshorts.com/hi/news/सहारनपुर-में-बसपा-के-फज़लुर्रहमान-सबसे-आगे-मसूद-को-भी-मिल-चुके-सवा-लाख-वोट-1558601614502\n",
            "dtstring /content/dataset/english/1558601614502PRSH.txt\n",
            "2 सहारनपुर-में-बसपा-के-फज़लुर्रहमान-सबसे-आगे-मसूद-को-भी-मिल-चुके-सवा-लाख-वोट\n",
            "    Article and Summary pulled! 19:07:59                                                                                                    \n",
            "    file /content/inshorts-dataset-en/1558601614502PRSH.txt                                                                                                     \n",
            "--------------------------------------------------                                                                                                    \n",
            "Processing link 3/20: https://inshorts.com/hi/news/गुरुग्राम-में-फ्लैट-के-नाम-पर-दिल्ली-के-व्यापारी-से-₹9125-की-ठगी-1556099842849\n",
            "dtstring /content/dataset/english/1556099842849LWXV.txt\n",
            "3 गुरुग्राम-में-फ्लैट-के-नाम-पर-दिल्ली-के-व्यापारी-से-₹9125-की-ठगी\n",
            "    Article and Summary pulled! 19:08:00                                                                                                    \n",
            "    file /content/inshorts-dataset-en/1556099842849LWXV.txt                                                                                                     \n",
            "--------------------------------------------------                                                                                                    \n",
            "Processing link 4/20: https://inshorts.com/hi/news/अपने-आत्मीय-मित्र-को-याद-कर-रहा-हूं-पासवान-की-बरसी-पर-उनके-परिवार-को-संदेश-में-पीएम-1631439024472\n",
            "dtstring /content/dataset/english/1631439024472JEPI.txt\n",
            "4 अपने-आत्मीय-मित्र-को-याद-कर-रहा-हूं-पासवान-की-बरसी-पर-उनके-परिवार-को-संदेश-में-पीएम\n",
            "    Article and Summary pulled! 19:08:01                                                                                                    \n",
            "    file /content/inshorts-dataset-en/1631439024472JEPI.txt                                                                                                     \n",
            "--------------------------------------------------                                                                                                    \n",
            "Processing link 5/20: https://inshorts.com/hi/news/मुज़फ्फरनगर-में-प्रेम-प्रसंग-के-चलते-हमलावरों-ने-की-युवक-की-गोली-मारकर-हत्या-1559907245740\n",
            "dtstring /content/dataset/english/1559907245740ZAUP.txt\n",
            "5 मुज़फ्फरनगर-में-प्रेम-प्रसंग-के-चलते-हमलावरों-ने-की-युवक-की-गोली-मारकर-हत्या\n",
            "    Article and Summary pulled! 19:08:02                                                                                                    \n",
            "    file /content/inshorts-dataset-en/1559907245740ZAUP.txt                                                                                                     \n",
            "--------------------------------------------------                                                                                                    \n",
            "\u001b[A\u001b[A\u001b[A\u001b[A\u001b[A\u001b[A\u001b[A\u001b[A\u001b[A\u001b[A\u001b[A\u001b[A\u001b[A\u001b[A\u001b[A\u001b[A\u001b[A\u001b[A\u001b[A\u001b[AProcessing link 6/20: https://inshorts.com/hi/news/मेरठ-में-लूट-का-विरोध-करने-पर-बदमाशों-ने-महिला-को-मारी-गोली-1556088289163\n",
            "dtstring /content/dataset/english/1556088289163XRGL.txt\n",
            "6 मेरठ-में-लूट-का-विरोध-करने-पर-बदमाशों-ने-महिला-को-मारी-गोली\n",
            "    Article and Summary pulled! 19:08:03                                                                                                    \n",
            "    file /content/inshorts-dataset-en/1556088289163XRGL.txt                                                                                                     \n",
            "--------------------------------------------------                                                                                                    \n",
            "Processing link 7/20: https://inshorts.com/hi/news/औरतों-का-मस्जिद-में-तरावीह-की-नमाज़-पढ़ना-गलत-सहारनपुर-उलेमा-1558429942308\n",
            "dtstring /content/dataset/english/1558429942308HATK.txt\n",
            "7 औरतों-का-मस्जिद-में-तरावीह-की-नमाज़-पढ़ना-गलत-सहारनपुर-उलेमा\n",
            "    Article and Summary pulled! 19:08:04                                                                                                    \n",
            "    file /content/inshorts-dataset-en/1558429942308HATK.txt                                                                                                     \n",
            "--------------------------------------------------                                                                                                    \n",
            "Processing link 8/20: https://inshorts.com/hi/news/मिडडे-मील-के-लिए-छत्तीसगढ़-में-8-किमी-पैदल-चलकर-राशन-लाते-दिखे-शिक्षक-1635151023140\n",
            "dtstring /content/dataset/english/1635151023140QLNR.txt\n",
            "8 मिडडे-मील-के-लिए-छत्तीसगढ़-में-8-किमी-पैदल-चलकर-राशन-लाते-दिखे-शिक्षक\n",
            "    Article and Summary pulled! 19:08:06                                                                                                    \n",
            "    file /content/inshorts-dataset-en/1635151023140QLNR.txt                                                                                                     \n",
            "--------------------------------------------------                                                                                                    \n",
            "Processing link 9/20: https://inshorts.com/hi/news/मुज़फ्फरनगर-में-180-स्टूडेंट्स-को-मिले-समान-अंक-बड़े-पैमाने-पर-नकल-की-आशंका-1556938453209\n",
            "dtstring /content/dataset/english/1556938453209HYWG.txt\n",
            "9 मुज़फ्फरनगर-में-180-स्टूडेंट्स-को-मिले-समान-अंक-बड़े-पैमाने-पर-नकल-की-आशंका\n",
            "    Article and Summary pulled! 19:08:07                                                                                                    \n",
            "    file /content/inshorts-dataset-en/1556938453209HYWG.txt                                                                                                     \n",
            "--------------------------------------------------                                                                                                    \n",
            "Processing link 10/20: https://inshorts.com/hi/news/मेरठ-में-ईंट-भट्ठों-पर-छापा-बिना-मानक-मिले-4-भट्ठों-पर-कार्रवाई-1556087609648\n",
            "dtstring /content/dataset/english/1556087609648HMXA.txt\n",
            "10 मेरठ-में-ईंट-भट्ठों-पर-छापा-बिना-मानक-मिले-4-भट्ठों-पर-कार्रवाई\n",
            "    Article and Summary pulled! 19:08:08                                                                                                    \n",
            "    file /content/inshorts-dataset-en/1556087609648HMXA.txt                                                                                                     \n",
            "--------------------------------------------------                                                                                                    \n",
            "\u001b[A\u001b[A\u001b[A\u001b[A\u001b[A\u001b[A\u001b[A\u001b[A\u001b[A\u001b[A\u001b[A\u001b[A\u001b[A\u001b[A\u001b[A\u001b[A\u001b[A\u001b[A\u001b[A\u001b[AProcessing link 11/20: https://inshorts.com/hi/news/टी20-विश्व-कप-में-भारतपाक-मैच-नहीं-होना-चाहिए-क्योंकि-सीमा-पर-स्थिति-आदर्श-नहीं-है-गिरिराज-1634553946252\n",
            "dtstring /content/dataset/english/1634553946252ACHL.txt\n",
            "11 टी20-विश्व-कप-में-भारतपाक-मैच-नहीं-होना-चाहिए-क्योंकि-सीमा-पर-स्थिति-आदर्श-नहीं-है-गिरिराज\n",
            "    Article and Summary pulled! 19:08:09                                                                                                    \n",
            "    file /content/inshorts-dataset-en/1634553946252ACHL.txt                                                                                                     \n",
            "--------------------------------------------------                                                                                                    \n",
            "Processing link 12/20: https://inshorts.com/hi/news/मेरठ-में-एक-स्कूल-पर-छात्रों-को-सिख-व-ईसाई-बता-छात्रवृत्ति-लेने-का-आरोप-1558266900235\n",
            "dtstring /content/dataset/english/1558266900235NOQL.txt\n",
            "12 मेरठ-में-एक-स्कूल-पर-छात्रों-को-सिख-व-ईसाई-बता-छात्रवृत्ति-लेने-का-आरोप\n",
            "    Article and Summary pulled! 19:08:10                                                                                                    \n",
            "    file /content/inshorts-dataset-en/1558266900235NOQL.txt                                                                                                     \n",
            "--------------------------------------------------                                                                                                    \n",
            "Processing link 13/20: https://inshorts.com/hi/news/दुख-की-घड़ी-में-अपने-भाइयोंबहनों-का-साथ-देने-लखीमपुर-जा-रहा-हूं-पंजाब-के-सीएम-1633334213049\n",
            "dtstring /content/dataset/english/1633334213049KEFB.txt\n",
            "13 दुख-की-घड़ी-में-अपने-भाइयोंबहनों-का-साथ-देने-लखीमपुर-जा-रहा-हूं-पंजाब-के-सीएम\n",
            "    Article and Summary pulled! 19:08:12                                                                                                    \n",
            "    file /content/inshorts-dataset-en/1633334213049KEFB.txt                                                                                                     \n",
            "--------------------------------------------------                                                                                                    \n",
            "Processing link 14/20: https://inshorts.com/hi/news/मेरठ-में-स्कूल-के-विद्युतीकरण-के-लिए-मिले-₹21000-नहीं-हुई-बिजली-व्यवस्था-1556097920472\n",
            "dtstring /content/dataset/english/1556097920472OHTT.txt\n",
            "14 मेरठ-में-स्कूल-के-विद्युतीकरण-के-लिए-मिले-₹21000-नहीं-हुई-बिजली-व्यवस्था\n",
            "    Article and Summary pulled! 19:08:13                                                                                                    \n",
            "    file /content/inshorts-dataset-en/1556097920472OHTT.txt                                                                                                     \n",
            "--------------------------------------------------                                                                                                    \n",
            "Processing link 15/20: https://inshorts.com/hi/news/मुज़फ्फरनगर-में-गंगनहर-में-गिरने-से-जेनरेटर-ऑपरेटर-की-मौत-1557544620618\n",
            "dtstring /content/dataset/english/1557544620618RRII.txt\n",
            "15 मुज़फ्फरनगर-में-गंगनहर-में-गिरने-से-जेनरेटर-ऑपरेटर-की-मौत\n",
            "    Article and Summary pulled! 19:08:14                                                                                                    \n",
            "    file /content/inshorts-dataset-en/1557544620618RRII.txt                                                                                                     \n",
            "--------------------------------------------------                                                                                                    \n",
            "\u001b[A\u001b[A\u001b[A\u001b[A\u001b[A\u001b[A\u001b[A\u001b[A\u001b[A\u001b[A\u001b[A\u001b[A\u001b[A\u001b[A\u001b[A\u001b[A\u001b[A\u001b[A\u001b[A\u001b[AProcessing link 16/20: https://inshorts.com/hi/news/मुज़फ्फरनगर-में-तमंचे-के-बल-पर-बुज़ुर्ग-दंपति-से-नकदी-समेत-ज़ेवरात-की-लूट-1559617206347\n",
            "dtstring /content/dataset/english/1559617206347TENZ.txt\n",
            "16 मुज़फ्फरनगर-में-तमंचे-के-बल-पर-बुज़ुर्ग-दंपति-से-नकदी-समेत-ज़ेवरात-की-लूट\n",
            "    Article and Summary pulled! 19:08:15                                                                                                    \n",
            "    file /content/inshorts-dataset-en/1559617206347TENZ.txt                                                                                                     \n",
            "--------------------------------------------------                                                                                                    \n",
            "Processing link 17/20: https://inshorts.com/hi/news/फिर-से-दरें-बढ़ने-पर-नए-उच्चतम-स्तर-पर-पहुंचे-पेट्रोलडीज़ल-के-दाम-1634192750683\n",
            "dtstring /content/dataset/english/1634192750683HVTP.txt\n",
            "17 फिर-से-दरें-बढ़ने-पर-नए-उच्चतम-स्तर-पर-पहुंचे-पेट्रोलडीज़ल-के-दाम\n",
            "    Article and Summary pulled! 19:08:16                                                                                                    \n",
            "    file /content/inshorts-dataset-en/1634192750683HVTP.txt                                                                                                     \n",
            "--------------------------------------------------                                                                                                    \n",
            "Processing link 18/20: https://inshorts.com/hi/news/लखनऊ-में-सांडों-का-आतंक-जारी-एक-सप्ताह-में-2-की-गई-जान-1556722800993\n",
            "dtstring /content/dataset/english/1556722800993BLXR.txt\n",
            "18 लखनऊ-में-सांडों-का-आतंक-जारी-एक-सप्ताह-में-2-की-गई-जान\n",
            "    Article and Summary pulled! 19:08:17                                                                                                    \n",
            "    file /content/inshorts-dataset-en/1556722800993BLXR.txt                                                                                                     \n",
            "--------------------------------------------------                                                                                                    \n",
            "Processing link 19/20: https://inshorts.com/hi/news/मेरठ-के-जानीखुर्द-में-कार-में-मिला-2-युवकों-का-शव-मचा-हड़कंप-1557466721935\n",
            "dtstring /content/dataset/english/1557466721935USOP.txt\n",
            "19 मेरठ-के-जानीखुर्द-में-कार-में-मिला-2-युवकों-का-शव-मचा-हड़कंप\n",
            "    Article and Summary pulled! 19:08:18                                                                                                    \n",
            "    file /content/inshorts-dataset-en/1557466721935USOP.txt                                                                                                     \n",
            "--------------------------------------------------                                                                                                    \n",
            "Processing link 20/20: https://inshorts.com/hi/news/पाकिस्तान-की-जीत-पर-भारत-में-पटाखे-फोड़ने-वालों-का-डीएनए-भारतीय-नहीं-अनिल-विज-1635238671592\n",
            "dtstring /content/dataset/english/1635238671592MSUB.txt\n",
            "20 पाकिस्तान-की-जीत-पर-भारत-में-पटाखे-फोड़ने-वालों-का-डीएनए-भारतीय-नहीं-अनिल-विज\n",
            "    Article and Summary pulled! 19:08:19                                                                                                    \n",
            "    file /content/inshorts-dataset-en/1635238671592MSUB.txt                                                                                                     \n",
            "--------------------------------------------------                                                                                                    \n",
            "\u001b[A\u001b[A\u001b[A\u001b[A\u001b[A\u001b[A\u001b[A\u001b[A\u001b[A\u001b[A\u001b[A\u001b[A\u001b[A\u001b[A\u001b[A\u001b[A\u001b[A\u001b[A\u001b[A\u001b[A\n",
            "\n",
            "\n",
            "\n",
            "\n",
            "\n",
            "\n",
            "20 Articles and their summaries pulled!\n"
          ]
        }
      ]
    },
    {
      "cell_type": "markdown",
      "metadata": {
        "id": "2p-Gge3N1__z"
      },
      "source": [
        "# Exploratory Code"
      ]
    },
    {
      "cell_type": "code",
      "execution_count": null,
      "metadata": {
        "id": "frC0_OIs2Ei_"
      },
      "outputs": [],
      "source": [
        "import urllib.request\n",
        "import urllib\n",
        "import urllib.parse\n",
        "from bs4 import BeautifulSoup\n",
        "from urllib.parse import quote\n",
        "import datetime\n",
        "import os\n",
        "import time\n",
        "import sys\n",
        "import random, string, re"
      ]
    },
    {
      "cell_type": "code",
      "source": [
        "def encode_hindi_url(quote_page):\n",
        "    url = urllib.parse.urlsplit(quote_page)\n",
        "    url = list(url)\n",
        "    url[2] = urllib.parse.quote(url[2])\n",
        "    url = urllib.parse.urlunsplit(url)\n",
        "    return url\n",
        "\n",
        "input_file = \"links.txt\"\n",
        "\n",
        "try:\n",
        "    file = open(input_file, \"r\", encoding=\"utf-8\")\n",
        "    links = file.readlines()\n",
        "    file.close()\n",
        "except FileNotFoundError:\n",
        "    print(f\"File '{input_file}' not found.\")\n",
        "    exit()\n",
        "\n",
        "\n",
        "output_directory = \"scraped_headings/\"\n",
        "\n",
        "\n",
        "if not os.path.exists(output_directory):\n",
        "    os.makedirs(output_directory)\n",
        "\n",
        "\n",
        "for i, link in enumerate(links[:5]):  # Only top 5 links\n",
        "    link = link.strip()\n",
        "    print(f\"Scraping link {i + 1}: {link}\")\n",
        "\n",
        "\n",
        "    encoded_link = encode_hindi_url(link)\n",
        "\n",
        "    try:\n",
        "        page = urllib.request.urlopen(encoded_link)\n",
        "    except Exception as e:\n",
        "        print(f\"Error fetching {encoded_link}: {e}\")\n",
        "        continue\n",
        "\n",
        "    soup = BeautifulSoup(page, 'html.parser')\n",
        "\n",
        "\n",
        "    heading = soup.find(\"span\", itemprop=\"headline\")\n",
        "\n",
        "    if heading:\n",
        "        heading_text = heading.text.strip()\n",
        "\n",
        "        filename = os.path.join(output_directory, f\"heading_{i + 1}.txt\")\n",
        "\n",
        "        with open(filename, \"w\", encoding=\"utf-8\") as file:\n",
        "            file.write(heading_text)\n",
        "\n",
        "        print(f\"Heading {i + 1} saved.\")\n",
        "\n",
        "    time.sleep(random.uniform(1, 3))\n",
        "\n",
        "print(f\"Scraping complete for the top 5 links. Headings saved in '{output_directory}'\")"
      ],
      "metadata": {
        "colab": {
          "base_uri": "https://localhost:8080/"
        },
        "id": "n2k7MWNPrQeA",
        "outputId": "65b277f7-3b0a-4631-e5e3-373abe59113c"
      },
      "execution_count": null,
      "outputs": [
        {
          "output_type": "stream",
          "name": "stdout",
          "text": [
            "Scraping link 1: https://inshorts.com/hi/news/डेरा-सच्चा-सौदा-प्रमुख-गुरमीत-राम-रहीम-सिंह-अनुयायी-की-हत्या-के-लिए-दोषी-करार-1633677650409\n",
            "Heading 1 saved.\n",
            "Scraping link 2: https://inshorts.com/hi/news/सहारनपुर-में-बसपा-के-फज़लुर्रहमान-सबसे-आगे-मसूद-को-भी-मिल-चुके-सवा-लाख-वोट-1558601614502\n",
            "Heading 2 saved.\n",
            "Scraping link 3: https://inshorts.com/hi/news/गुरुग्राम-में-फ्लैट-के-नाम-पर-दिल्ली-के-व्यापारी-से-₹9125-की-ठगी-1556099842849\n",
            "Heading 3 saved.\n",
            "Scraping link 4: https://inshorts.com/hi/news/अपने-आत्मीय-मित्र-को-याद-कर-रहा-हूं-पासवान-की-बरसी-पर-उनके-परिवार-को-संदेश-में-पीएम-1631439024472\n",
            "Heading 4 saved.\n",
            "Scraping link 5: https://inshorts.com/hi/news/मुज़फ्फरनगर-में-प्रेम-प्रसंग-के-चलते-हमलावरों-ने-की-युवक-की-गोली-मारकर-हत्या-1559907245740\n",
            "Heading 5 saved.\n",
            "Scraping complete for the top 5 links. Headings saved in 'scraped_headings/'\n"
          ]
        }
      ]
    },
    {
      "cell_type": "markdown",
      "source": [
        "# Amar Ujala (Working + Non Modular)"
      ],
      "metadata": {
        "id": "Imei6ixEu24v"
      }
    },
    {
      "cell_type": "code",
      "source": [
        "from bs4 import BeautifulSoup\n",
        "import requests\n",
        "import re\n",
        "\n"
      ],
      "metadata": {
        "id": "8BLqwxEsMU6_"
      },
      "execution_count": null,
      "outputs": []
    },
    {
      "cell_type": "code",
      "source": [
        "url = 'https://www.amarujala.com/delhi-ncr/gurgaon/21556042696-gurgaon-news?utm_campaign=fullarticle&utm_medium=referral&utm_source=inshorts'\n",
        "response = requests.get(url)\n",
        "\n",
        "if response.status_code != 200:\n",
        "    print(\"Failed to retrieve the webpage.\")\n",
        "    exit()\n",
        "\n",
        "soup = BeautifulSoup(response.content, 'html.parser')\n"
      ],
      "metadata": {
        "id": "d-Tt4stNMzFH"
      },
      "execution_count": null,
      "outputs": []
    },
    {
      "cell_type": "code",
      "source": [
        "headlines = soup.find_all('h1')\n",
        "\n",
        "for headline in headlines:\n",
        "    print(\"Headline:\", headline.text.strip())"
      ],
      "metadata": {
        "colab": {
          "base_uri": "https://localhost:8080/"
        },
        "id": "CxcwJUQen_d7",
        "outputId": "00cffe2e-ee98-4c64-bb97-27718d2c250b"
      },
      "execution_count": null,
      "outputs": [
        {
          "output_type": "stream",
          "name": "stdout",
          "text": [
            "Headline: फलैट के नाम पर जाली कागजात बनाकर व्यापारी से 91.25 की धोखाधड़ी\n"
          ]
        }
      ]
    },
    {
      "cell_type": "code",
      "source": [
        "article_div = soup.find('div', class_='article-desc tested')\n",
        "if article_div is None:\n",
        "    article_div= soup.find('div', class_='article-desc ul_styling')\n",
        "\n",
        "if article_div:\n",
        "    article_text = article_div.get_text(separator=\"\\n\")\n",
        "    print(article_text)\n",
        "\n",
        "else:\n",
        "    print(\"Article content not found on the page.\")"
      ],
      "metadata": {
        "colab": {
          "base_uri": "https://localhost:8080/"
        },
        "id": "BF0LTcYFt2IH",
        "outputId": "e3adb5e0-4675-4c2b-9808-8b306f6f1ccd"
      },
      "execution_count": null,
      "outputs": [
        {
          "output_type": "stream",
          "name": "stdout",
          "text": [
            "\n",
            "\n",
            "\n",
            "\n",
            "\n",
            "                                                                                 \n",
            "                जाली कागजात बनाकर व्यापारी से 91.25 लाख की धोखाधड़ी \n",
            "                \n",
            "                \n",
            "                 \n",
            "                    \n",
            "\n",
            "\n",
            "\n",
            "\n",
            "\n",
            "\n",
            " \n",
            "यह वीडियो/विज्ञापन हटाएं\n",
            "\n",
            "\n",
            "\n",
            "                \n",
            "                \n",
            "                \n",
            "\n",
            "                                                \n",
            "                \n",
            "                                                                                                \n",
            "                                 \n",
            "                क्रॉसर...\n",
            "                \n",
            "                \n",
            "                \n",
            "\n",
            "                                                \n",
            "                \n",
            "                                                                                                \n",
            "                                 \n",
            "                \n",
            "\n",
            "                \n",
            "                \n",
            "                \n",
            "\n",
            "                                                \n",
            "                \n",
            "                                                                                                \n",
            "                                 \n",
            "                - निर्माणाधीन को-ऑपरेटिव हाउसिंग सोसाइटी में फ्लैट दिलाने के नाम पर की ठगी\n",
            "                \n",
            "                \n",
            "                \n",
            "\n",
            "                                                \n",
            "                \n",
            "                                                                                                \n",
            "                                 \n",
            "                \n",
            "\n",
            "                \n",
            "                \n",
            "                \n",
            "\n",
            "                                                \n",
            "                \n",
            "                                                                                                \n",
            "                                 \n",
            "                अमर उजाला ब्यूरो\n",
            "                \n",
            "                \n",
            "                \n",
            "\n",
            "                                                \n",
            "                \n",
            "                                                                                                \n",
            "                                 \n",
            "                \n",
            "\n",
            "                \n",
            "                \n",
            "                \n",
            "\n",
            "                                                \n",
            "                \n",
            "                                                                                                \n",
            "                                 \n",
            "                गुरुग्राम। सेक्टर-43 स्थित निर्माणाधीन को-ऑपरेटिव हाउसिंग सोसाइटी के नाम पर जाली कागजात बनाकर दिल्ली के व्यापारी से 91.25 लाख की धोखाधड़ी करने का मामला सामने आया है। पीड़ित व्यापारी से आरोपी ने दो माह के भीतर बैंक और नकदी के माध्यम से रुपये लिए। इसी बीच सोसाइटी के शेयर सर्टिफिकेट नंबर-8 की जांच कराने पर फर्जीवाड़े का खुलासा हुआ। पीड़ित ने सुशांतलोक थाना पुलिस में प्रवीण कुमार के खिलाफ धोखाधड़ी का मामला दर्ज कराया है। दिल्ली सराय रोहिल्ला स्थित विवेकानंद पुरी निवासी रणबीर सिंह ने पुलिस को दी शिकायत में बताया कि उन्होंने गुरुग्राम में फ्लैट खरीदने के लिए अपने साढू जयपाल सिंह के माध्यम से गुरुग्राम सेक्टर-43 रैनबो अपार्टमेंट फ्लैट नबंर-1202 निवासी प्रवीण गुप्ता से मुलाकात की। प्रवीण  ने उनको बताया कि सेक्टर-43 स्थित निर्माणाधीन द बजरंग को-ऑपरेटिव ग्रुप हाउसिंग सोसाइटी लिमिटेड में उसके और उसकी बुआ पवित्रा के नाम से दो फ्लैट बुक हैं। दोनों फ्लैट के लिए 1.42 करोड़ में सौदा तय हो गया। इसके बाद प्रवीण कुमार ने जाली शेयर सर्टिफिकेट नंबर-8 तैयार कर पीड़ित को दिखाया। इसके बाद पीड़ित रणबीर सिंह ने फरवरी और मार्च में 91.25 लाख का भुगतान कर दिया, जिसमें 63.05 लाख बैंक और 28.20 लाख का नकद भुगतान किया। पुलिस के मुताबिक सोसाइटी का ड्रॉ निकलने की तारीख टलने के बाद उन्होंने सोसायटी प्रबंधन से जांच पड़ताल की तो सामने आया कि प्रवीण गुप्ता और उनकी बुआ समेत अन्य के नाम से ऐसा कोई फ्लैट ही बुक नहीं है। प्रबंधन की ओर से शेयर सर्टिफिकेट नंबर-8 को भी फर्जी करार दिया गया। इसके बाद उन्होंने शिकायत दी। \n",
            "                \n",
            "                \n",
            "                \n",
            "\n",
            "                                                \n",
            "                \n",
            "                                                                                                                                \n",
            "                                 \n",
            "                \n",
            "\n",
            "                \n",
            "                \n",
            "                \n",
            "\n",
            "                                                \n",
            "                \n",
            "                                                                                                \n",
            "                                 \n",
            "                -----------\n",
            "                \n",
            "                \n",
            "                \n",
            "\n",
            "                                                \n",
            "                \n",
            "                                                                                                \n",
            "                                                \n",
            "\n",
            "\n",
            "\n",
            "\n",
            "\n",
            "\n"
          ]
        }
      ]
    },
    {
      "cell_type": "code",
      "source": [
        "cleaned_article = ' '.join(article_text.split())\n",
        "cleaned_article = '\\n'.join(line.strip() for line in cleaned_article.splitlines() if line.strip())\n",
        "cleaned_article = re.sub(r'\\s+([.,;!?])', r'\\1', cleaned_article)\n",
        "print(cleaned_article)\n",
        "\n",
        "\n",
        "\n",
        "\n",
        "\n"
      ],
      "metadata": {
        "colab": {
          "base_uri": "https://localhost:8080/"
        },
        "id": "ZjFAr2pruZTP",
        "outputId": "439e434b-2691-4fd9-dee8-babce65eeab2"
      },
      "execution_count": null,
      "outputs": [
        {
          "output_type": "stream",
          "name": "stdout",
          "text": [
            "जाली कागजात बनाकर व्यापारी से 91.25 लाख की धोखाधड़ी यह वीडियो/विज्ञापन हटाएं क्रॉसर... - निर्माणाधीन को-ऑपरेटिव हाउसिंग सोसाइटी में फ्लैट दिलाने के नाम पर की ठगी अमर उजाला ब्यूरो गुरुग्राम। सेक्टर-43 स्थित निर्माणाधीन को-ऑपरेटिव हाउसिंग सोसाइटी के नाम पर जाली कागजात बनाकर दिल्ली के व्यापारी से 91.25 लाख की धोखाधड़ी करने का मामला सामने आया है। पीड़ित व्यापारी से आरोपी ने दो माह के भीतर बैंक और नकदी के माध्यम से रुपये लिए। इसी बीच सोसाइटी के शेयर सर्टिफिकेट नंबर-8 की जांच कराने पर फर्जीवाड़े का खुलासा हुआ। पीड़ित ने सुशांतलोक थाना पुलिस में प्रवीण कुमार के खिलाफ धोखाधड़ी का मामला दर्ज कराया है। दिल्ली सराय रोहिल्ला स्थित विवेकानंद पुरी निवासी रणबीर सिंह ने पुलिस को दी शिकायत में बताया कि उन्होंने गुरुग्राम में फ्लैट खरीदने के लिए अपने साढू जयपाल सिंह के माध्यम से गुरुग्राम सेक्टर-43 रैनबो अपार्टमेंट फ्लैट नबंर-1202 निवासी प्रवीण गुप्ता से मुलाकात की। प्रवीण ने उनको बताया कि सेक्टर-43 स्थित निर्माणाधीन द बजरंग को-ऑपरेटिव ग्रुप हाउसिंग सोसाइटी लिमिटेड में उसके और उसकी बुआ पवित्रा के नाम से दो फ्लैट बुक हैं। दोनों फ्लैट के लिए 1.42 करोड़ में सौदा तय हो गया। इसके बाद प्रवीण कुमार ने जाली शेयर सर्टिफिकेट नंबर-8 तैयार कर पीड़ित को दिखाया। इसके बाद पीड़ित रणबीर सिंह ने फरवरी और मार्च में 91.25 लाख का भुगतान कर दिया, जिसमें 63.05 लाख बैंक और 28.20 लाख का नकद भुगतान किया। पुलिस के मुताबिक सोसाइटी का ड्रॉ निकलने की तारीख टलने के बाद उन्होंने सोसायटी प्रबंधन से जांच पड़ताल की तो सामने आया कि प्रवीण गुप्ता और उनकी बुआ समेत अन्य के नाम से ऐसा कोई फ्लैट ही बुक नहीं है। प्रबंधन की ओर से शेयर सर्टिफिकेट नंबर-8 को भी फर्जी करार दिया गया। इसके बाद उन्होंने शिकायत दी। -----------\n"
          ]
        }
      ]
    },
    {
      "cell_type": "markdown",
      "source": [
        "# Cricket Tracker (Working + Non Modular)"
      ],
      "metadata": {
        "id": "cFfk8oFRwpX-"
      }
    },
    {
      "cell_type": "code",
      "source": [
        "url = 'https://hindi.crictracker.com/fans-trolled-riyan-parag-on-social-media-for-a-catch/?fbclid=IwAR0YCLRo3_jNv-2rVr0vMZD2Q7iR8qVoZDJ6cgbr4m4D0YydqxN9tKtUGH0&amp=&utm_campaign=fullarticle&utm_medium=referral&utm_source=inshorts'\n",
        "response = requests.get(url)\n",
        "\n",
        "if response.status_code != 200:\n",
        "    print(\"Failed to retrieve the webpage.\")\n",
        "    exit()\n",
        "\n",
        "soup = BeautifulSoup(response.content, 'html.parser')"
      ],
      "metadata": {
        "id": "wPxTOALy1gbJ"
      },
      "execution_count": null,
      "outputs": []
    },
    {
      "cell_type": "code",
      "source": [
        "headlines = soup.find_all('h1')\n",
        "\n",
        "for headline in headlines:\n",
        "    print(\"Headline:\", headline.text.strip())"
      ],
      "metadata": {
        "colab": {
          "base_uri": "https://localhost:8080/"
        },
        "outputId": "eba96efe-41bd-40fb-ecf9-fa134b5c4ae9",
        "id": "xR0AvKw62ajf"
      },
      "execution_count": null,
      "outputs": [
        {
          "output_type": "stream",
          "name": "stdout",
          "text": [
            "Headline: कैच पकड़ने के बाद रियान पराग की घटिया हरकत देख भड़के फैन्स\n"
          ]
        }
      ]
    },
    {
      "cell_type": "code",
      "source": [
        "paragraphs = soup.find_all('p')\n",
        "\n",
        "\n",
        "hindi_text = \"\"\n",
        "for p in paragraphs:\n",
        "    if any('\\u0900' <= c <= '\\u097F' for c in p.get_text()):\n",
        "        hindi_text += p.get_text() + \"\\n\"\n",
        "\n",
        "print(hindi_text)"
      ],
      "metadata": {
        "colab": {
          "base_uri": "https://localhost:8080/"
        },
        "id": "hHFmKnQz4W80",
        "outputId": "305733ea-d043-4b3c-8136-111df40ac1d7"
      },
      "execution_count": null,
      "outputs": [
        {
          "output_type": "stream",
          "name": "stdout",
          "text": [
            "Prashantउप-संपादक\n",
            "अद्यतन - मई 16, 2022 12:01 अपराह्न\n",
            "राजस्थान टीम के युवा खिलाड़ी रियान पराग हमेशा खबरों में रहते हैं, राजस्थान के मैच में इनका प्रदर्शन अच्छा हो या नहीं ये सुर्खियां बटोर ही लेते हैं। रियान पराग पर राजस्थान टीम काफी भरोसा करती है, इसलिए सालों से रियान इस टीम के साथ जुड़े हुए हैं। लेकिन कल रात LSG के खिलाफ हुए मैच के दौरान कुछ ऐसा हो गया, जिसे देख क्रिकेट फैन्स काफी गुस्सा हो गए और रियान पराग को सोशल मीडिया पर काफी बुरी तरह से ट्रोल कर दिया।\n",
            "रियान पराग गेंद और बल्ले दोनों से कमाल करना जानते हैं, लेकिन वो लगातार शानदार प्रदर्शन करने में फेल हो जाते हैं। वहीं दूसरी ओर फील्डिंग में इस युवा खिलाड़ी का कोई जवाब नहीं है, कल रात लखनऊ सुपर जायंट्स के खिलाफ हुए मैच में भी पराग ने इस क्षेत्र में अपना दम दिखाया। जहां उन्होंने बोल्ट के साथ मिलकर एक शानदार कैच पकड़ा, वहीं जब उन्होंने एक और कैच पकड़ा तो उन्होंने कुछ ऐसा कर दिया जो फैन्स को पसंद नहीं आया।\n",
            "*रियान पराग ने पकड़ा था मार्कस स्टोइनिस का एक कैच।\n",
            "*लेकिन गेंद रियान के हाथ में आने से पहले जमीन पर लग गई थी।\n",
            "*तीसरे अंपायर ने फिर दे दिया था मार्कस को नॉट आउट।\n",
            "*लेकिन बाद पराग ने फिर पकड़ा कैच, अंपायर की तरफ करने लगे इशारा।\n",
            "— अरविन्द राजपुरोहित (@avrajpurohit100) May 16, 2022\n",
            "वहीं LSG के खिलाफ राजस्थान ने पहले बल्लेबाजी करते हुए 178 रन बनाए थे, जहां टीम की तरफ जायसवाल, संजू और देवदत्त का बल्ला बोला था। दूसरी ओर LSG की टीम 154 रन ही बनाई और राजस्थान ने इस मैच को 24 रनों से जीत लिया, इस जीत के साथ राजस्थान टीम अंक तालिका पर दूसरे नंबर पर आ गई है और प्लेऑफ के टीम करीब भी आ चुकी है। लेकिन अब राहुल की टीम के लिए टेंशन काफी ज्यादा ही बढ़ गई है।\n",
            "\n"
          ]
        }
      ]
    },
    {
      "cell_type": "code",
      "source": [
        "hindi_pattern = re.compile(r'[\\u0900-\\u097F]+')\n",
        "hindi_text_matches = hindi_pattern.findall(hindi_text)\n",
        "hindi_text = ' '.join(hindi_text_matches)\n",
        "print(hindi_text)"
      ],
      "metadata": {
        "colab": {
          "base_uri": "https://localhost:8080/"
        },
        "id": "eQp3mJ8o46jM",
        "outputId": "de194b0b-a931-42a6-e942-fd77815e46a8"
      },
      "execution_count": null,
      "outputs": [
        {
          "output_type": "stream",
          "name": "stdout",
          "text": [
            "उप संपादक अद्यतन मई अपराह्न राजस्थान टीम के युवा खिलाड़ी रियान पराग हमेशा खबरों में रहते हैं राजस्थान के मैच में इनका प्रदर्शन अच्छा हो या नहीं ये सुर्खियां बटोर ही लेते हैं। रियान पराग पर राजस्थान टीम काफी भरोसा करती है इसलिए सालों से रियान इस टीम के साथ जुड़े हुए हैं। लेकिन कल रात के खिलाफ हुए मैच के दौरान कुछ ऐसा हो गया जिसे देख क्रिकेट फैन्स काफी गुस्सा हो गए और रियान पराग को सोशल मीडिया पर काफी बुरी तरह से ट्रोल कर दिया। रियान पराग गेंद और बल्ले दोनों से कमाल करना जानते हैं लेकिन वो लगातार शानदार प्रदर्शन करने में फेल हो जाते हैं। वहीं दूसरी ओर फील्डिंग में इस युवा खिलाड़ी का कोई जवाब नहीं है कल रात लखनऊ सुपर जायंट्स के खिलाफ हुए मैच में भी पराग ने इस क्षेत्र में अपना दम दिखाया। जहां उन्होंने बोल्ट के साथ मिलकर एक शानदार कैच पकड़ा वहीं जब उन्होंने एक और कैच पकड़ा तो उन्होंने कुछ ऐसा कर दिया जो फैन्स को पसंद नहीं आया। रियान पराग ने पकड़ा था मार्कस स्टोइनिस का एक कैच। लेकिन गेंद रियान के हाथ में आने से पहले जमीन पर लग गई थी। तीसरे अंपायर ने फिर दे दिया था मार्कस को नॉट आउट। लेकिन बाद पराग ने फिर पकड़ा कैच अंपायर की तरफ करने लगे इशारा। अरविन्द राजपुरोहित वहीं के खिलाफ राजस्थान ने पहले बल्लेबाजी करते हुए रन बनाए थे जहां टीम की तरफ जायसवाल संजू और देवदत्त का बल्ला बोला था। दूसरी ओर की टीम रन ही बनाई और राजस्थान ने इस मैच को रनों से जीत लिया इस जीत के साथ राजस्थान टीम अंक तालिका पर दूसरे नंबर पर आ गई है और प्लेऑफ के टीम करीब भी आ चुकी है। लेकिन अब राहुल की टीम के लिए टेंशन काफी ज्यादा ही बढ़ गई है।\n"
          ]
        }
      ]
    },
    {
      "cell_type": "markdown",
      "source": [
        "# Timesnowhindi (working + Non Modular)"
      ],
      "metadata": {
        "id": "D6P9JKyiXMSZ"
      }
    },
    {
      "cell_type": "code",
      "source": [
        "url = 'https://www.timesnowhindi.com/amp/india/article/rahul-gandhi-appeals-to-party-leaders-and-workers-not-to-celebrate-his-birthday/416284?utm_campaign=fullarticle&utm_medium=referral&utm_source=inshorts'\n",
        "response = requests.get(url)\n",
        "\n",
        "if response.status_code != 200:\n",
        "    print(\"Failed to retrieve the webpage.\")\n",
        "    exit()\n",
        "\n",
        "soup = BeautifulSoup(response.content, 'html.parser')\n",
        "\n",
        "headlines = soup.find_all('h1')\n",
        "\n",
        "for headline in headlines:\n",
        "    print(\"Headline:\", headline.text.strip())\n",
        "\n",
        "\n",
        "article_text = \"\"\n",
        "paragraphs = soup.find_all(\"p\")\n",
        "for paragraph in paragraphs:\n",
        "  article_text += paragraph.get_text() + \"\\n\"\n",
        "print(article_text)\n"
      ],
      "metadata": {
        "colab": {
          "base_uri": "https://localhost:8080/"
        },
        "id": "Q2n9Sy9wcUQH",
        "outputId": "2a9f2e5c-ebbf-4ec5-f27e-f98d31721d0c"
      },
      "execution_count": null,
      "outputs": [
        {
          "output_type": "stream",
          "name": "stdout",
          "text": [
            "Headline: Rahul Gandhi Birthday:52 के हुए राहुल गांधी, बर्थडे पर की अपील-'युवा परेशान हैं, मेरे जन्मदिन पर जश्न न मनाएं'\n",
            "नयी दिल्ली: कांग्रेस नेता राहुल गांधी (Rahul Gandhi) ने पार्टी नेताओं और कार्यकर्ताओं से संडे को उनका जन्मदिन नहीं मनाने की अपील की है।राहुल ने पार्टी नेताओं और कार्यकर्ताओं से एक संदेश में कहा कि देश के युवा परेशान हैं और सड़कों पर विरोध कर रहे हैं, कांग्रेस कार्यकर्ताओं को उनके साथ खड़ा होना चाहिए, कांग्रेस के पूर्व अध्यक्ष राहुल गांधी रविवार को 52 साल (Rahul Gandhi turned 52) के हो गए हैं।\n",
            "अखिल भारतीय कांग्रेस कमेटी (AICC) के महासचिव (संचार) जयराम रमेश द्वारा ट्विटर पर पोस्ट किए गए एक संदेश में राहुल गांधी ने कहा कि देश में माहौल इस समय बेहद चिंताजनक है।\n",
            "राहुल ने सशस्त्र सेनाओं में भर्ती के लिए 'अग्निपथ' योजना के खिलाफ देश के कई हिस्सों में हो रहे विरोध प्रदर्शनों की ओर इशारा करते हुए कहा, 'देश के युवा परेशान हैं। हमें इस समय उनके और उनके परिवारों के साथ खड़ा होना चाहिए।'\n",
            "उन्होंने कहा, 'मैं देश भर के सभी कांग्रेस कार्यकर्ताओं और अपने शुभचिंतकों से अपील करता हूं कि मेरे जन्मदिन के मौके पर किसी भी तरह का जश्न न मनाएं।'\n",
            "केंद्र सरकार की अग्निपथ भर्ती योजना का विरोध कर रहे युवाओं के समर्थन में कांग्रेस पार्टी आज जंतर मंतर पर सत्याग्रह करेगी। सभी कांग्रेस सांसद, सीडब्ल्यूसी सदस्य और एआईसीसी पदाधिकारी इस सत्याग्रह में भाग लेंगे। सशस्त्र बलों में नई भर्ती योजना के खिलाफ देश के अलग-अलग हिस्सों में विरोध प्रदर्शन शुरू हो गए हैं। कुछ जगहों पर विरोध प्रदर्शन हिंसक भी हुए हैं।\n",
            "जंतर मंतर पर सत्याग्रह सुबह 10 बजे से शुरू होगा। कांग्रेस पार्टी के एक नेता ने कहा कि ये फैसला इसलिए लिया गया, क्योंकि 'अग्निपथ' योजना ने हमारे देश के युवाओं को आक्रोशित कर दिया है और वे सड़कों पर उतरकर विरोध प्रकट कर रहे हैं। हमारी जिम्मेदारी है कि हम उनके साथ खड़े रहें।\n",
            "कांग्रेस की अंतरिम अध्यक्ष सोनिया गांधी ने देश के युवाओं के नाम संदेश में कहा, 'आप भारतीय सेना में भर्ती होकर देश सेवा का महत्वपूर्ण कार्य करने की अभिलाषा रखते हैं। सेना में लाखों खाली पद होने के बावजूद पिछले तीन साल से भर्ती न होने का दर्द मैं समझ सकती हूं। एयरफोर्स में भर्ती की परीक्षा देकर रिजल्ट और नियुक्ति का इंतजार कर रहे युवाओं के साथ भी मेरी पूरी सहानुभूति है।'उन्होंने कहा, 'मुझे दुख है कि सरकार ने आपकी आवाज को दरकिनार करते हुए नई सेना भर्ती योजना की घोषणा की है, जो कि पूरी तरह से दिशाहीन है। आपके साथ-साथ कई पूर्व सैनिक और रक्षा विशेषज्ञों ने भी इस योजना पर सवालिया निशान उठाए हैं।' कांग्रेस अध्यक्ष ने कहा, 'मैं आपसे भी अनुरोध करती हूं कि अपनी जायज मांगों के लिए शांतिपूर्ण और अहिंसक ढंग से आंदोलन करें। कांग्रेस आपके साथ है।' \t\n",
            "Times Now Navbharat पर पढ़ें India News in Hindi, साथ ही ब्रेकिंग न्यूज और लाइव न्यूज अपडेट के लिए हमें गूगल न्यूज़ पर फॉलो करें ।\n",
            "\n"
          ]
        }
      ]
    },
    {
      "cell_type": "code",
      "source": [],
      "metadata": {
        "id": "VpaeVmEDp1Sq"
      },
      "execution_count": null,
      "outputs": []
    },
    {
      "cell_type": "markdown",
      "source": [
        "#livehindustan (Not working)"
      ],
      "metadata": {
        "id": "gO7fsLO-6ADC"
      }
    },
    {
      "cell_type": "code",
      "source": [
        "url = 'https://www.livehindustan.com/cricket/story-ipl-2021-david-warner-posts-selfie-from-stands-in-dubai-watches-video-srh-vs-kkr-match-4730766.amp.html?utm_campaign=fullarticle&utm_medium=referral&utm_source=inshorts'\n",
        "response = requests.get(url)\n",
        "\n",
        "if response.status_code != 200:\n",
        "    print(\"Failed to retrieve the webpage.\")\n",
        "    exit()\n",
        "\n",
        "soup = BeautifulSoup(response.content, 'html.parser')"
      ],
      "metadata": {
        "colab": {
          "base_uri": "https://localhost:8080/"
        },
        "id": "8Ic6pqfZ8tyz",
        "outputId": "cb61d981-59be-48fa-86c6-c16a30f47850"
      },
      "execution_count": null,
      "outputs": [
        {
          "output_type": "stream",
          "name": "stdout",
          "text": [
            "Failed to retrieve the webpage.\n"
          ]
        }
      ]
    },
    {
      "cell_type": "code",
      "source": [
        "headlines = soup.find_all('h1')\n",
        "\n",
        "for headline in headlines:\n",
        "    print(\"Headline:\", headline.text.strip())"
      ],
      "metadata": {
        "id": "HSJQOeo48wSp",
        "colab": {
          "base_uri": "https://localhost:8080/"
        },
        "outputId": "5b33aa63-aea3-4b4a-dc53-3b3c5da55992"
      },
      "execution_count": null,
      "outputs": [
        {
          "output_type": "stream",
          "name": "stdout",
          "text": [
            "Headline: Access Denied\n"
          ]
        }
      ]
    },
    {
      "cell_type": "markdown",
      "source": [
        "# Jagran (Working + Non Modular)"
      ],
      "metadata": {
        "id": "erot_EdcsVGB"
      }
    },
    {
      "cell_type": "code",
      "source": [
        "url = 'https://www.jagran.com/bihar/katihar-inveastigation-19191026.html?utm_campaign=fullarticle&utm_medium=referral&utm_source=inshorts'\n",
        "response = requests.get(url)\n",
        "\n",
        "if response.status_code != 200:\n",
        "    print(\"Failed to retrieve the webpage.\")\n",
        "    exit()\n",
        "\n",
        "soup = BeautifulSoup(response.content, 'html.parser')\n",
        "\n",
        "headlines = soup.find_all('h1')\n",
        "\n",
        "for headline in headlines:\n",
        "    print(\"Headline:\", headline.text.strip())\n",
        "\n",
        "article_div = soup.find('div', class_='articlecontent')\n",
        "\n",
        "if article_div:\n",
        "    article_text = article_div.get_text(separator=\"\\n\")\n",
        "    #print(article_text)\n",
        "else:\n",
        "    print(\"Article content not found on the page.\")\n",
        "\n",
        "cleaned_article = ' '.join(article_text.split())\n",
        "cleaned_article = '\\n'.join(line.strip() for line in cleaned_article.splitlines() if line.strip())\n",
        "cleaned_article = re.sub(r'\\s+([.,;!?])', r'\\1', cleaned_article)\n",
        "print(cleaned_article)\n"
      ],
      "metadata": {
        "colab": {
          "base_uri": "https://localhost:8080/"
        },
        "outputId": "a85d4c40-8921-4200-a88c-e646c12f01f1",
        "id": "g4UViHOys2AV"
      },
      "execution_count": null,
      "outputs": [
        {
          "output_type": "stream",
          "name": "stdout",
          "text": [
            "Headline: सूर्यास्त बाद स्टीमर परिचालन की सूचना पर औचक निरीक्षण\n",
            "कटिहार। मनिहारी व साहेबगंज के बीच गंगा में सूर्यास्त के बाद स्टीमर परिचालन की सूचना पर गुरुवार की देर शाम अनुमंडल पदाधिकारी संदीप कुमार, भुमि सुधार उपसमाहर्ता रविकांत सिन्हा व सीओ संजीव कुमार ने मनिहारी लंच घाट पहुंच औचक निरीक्षण किया। कुछ देर बाद मनिहारी थाना के अनि रूपेश रंजन व अनि नवनीत कुमार भी पहुंचे। एसडीओ ने लंच घाट पर कई बातों की जानकारी भी ली। एसडीओ संदीप कुमार ने कहा कि गंगा नदी मार्ग में मनिहारी क्षेत्र में अवैध जहाजों के परिचालन पर सख्त कार्रवाई की जाएगी। किसी कीमत पर इसे बर्दाश्त नहीं किया जाएगा। उन्होंने कहा कि सूर्यास्त के बाद जहाजों व नावों का परिचालन हर हाल में वर्जित है। इसके उल्लघंन करने पर सख्त कार्रवाई की जाएगी। उन्होंने सरकार के तय निर्देश व बिहार बंगाल फेरी एक्ट का हर हाल में पालन करने का निर्देश बंदोबस्तधारी को दिया। एसडीओ ने सीओ के प्रति नाराजगी भी जताई और उन्हें आवश्यक दिशा- निर्देश भी दिया। यद्यपि ंऔचक निरीक्षण के क्रम में लंच घाट मनिहारी पर एक भी जहाज नहीं था। बताया गया कि जहाज साहिबगंज समदा घाट में लगी हुई है।\n"
          ]
        }
      ]
    },
    {
      "cell_type": "markdown",
      "source": [
        "# repository.inshorts.com ( Website Unavailabe)"
      ],
      "metadata": {
        "id": "XNNIslrqgZFr"
      }
    },
    {
      "cell_type": "code",
      "source": [
        "if \"repository.inshorts.com\" in urlink:\n",
        "  print('Reference website Unavailabe')\n"
      ],
      "metadata": {
        "id": "ckK-Qv10g-dD"
      },
      "execution_count": null,
      "outputs": []
    },
    {
      "cell_type": "markdown",
      "source": [
        "# Jansatta (Working + Non Modular)"
      ],
      "metadata": {
        "id": "oWlQPZpVhvEx"
      }
    },
    {
      "cell_type": "code",
      "source": [
        "url = 'https://www.jansatta.com/entertainment/nadav-lapid-calls-the-kashmir-files-propaganda-vivek-agnihotri-and-swara-bhaskar-react/2527781/lite/?utm_campaign=fullarticle&utm_medium=referral&utm_source=inshorts'\n",
        "response = requests.get(url)\n",
        "\n",
        "if response.status_code != 200:\n",
        "    print(\"Failed to retrieve the webpage.\")\n",
        "    exit()\n",
        "soup = BeautifulSoup(response.content, 'html.parser')\n",
        "headlines = soup.find_all('h1')\n",
        "for headline in headlines:\n",
        "    print(\"Headline:\", headline.text.strip())\n",
        "\n",
        "article_div = soup.find('div', class_='post-content')\n",
        "\n",
        "if article_div:\n",
        "    article_text = article_div.get_text(separator=\"\\n\")\n",
        "    #print(article_text)\n",
        "else:\n",
        "  print(\"Article content not found on the page.\")\n",
        "\n",
        "cleaned_article = ' '.join(article_text.split())\n",
        "cleaned_article = '\\n'.join(line.strip() for line in cleaned_article.splitlines() if line.strip())\n",
        "cleaned_article = re.sub(r'\\s+([.,;!?])', r'\\1', cleaned_article)\n",
        "print(cleaned_article)"
      ],
      "metadata": {
        "colab": {
          "base_uri": "https://localhost:8080/"
        },
        "id": "hARmymKVoevm",
        "outputId": "f73baf14-8be8-41b5-9c3a-fddb4602790c"
      },
      "execution_count": null,
      "outputs": [
        {
          "output_type": "stream",
          "name": "stdout",
          "text": [
            "Headline: The Kashmir Files विवाद पर बोलीं स्वरा भास्कर- दुनिया को सच्चाई पता चल गई, विवेक अग्निहोत्री ने दिया ऐसा जवाब\n",
            "इंटरनेशनल फिल्म फेस्टिवल ऑफ इंडिया (IFFI) के जूरी हेड नदव लापिड (Nadav Lapid) ने फिल्म ‘द कश्मीर फाइल्स’ को घटिया और प्रोपेगेंडा बताकर एक बड़े विवाद को जन्म दे दिया है। हालांकि इजरायल के एंबेसडर नौर गिलौन (Israeli Ambassador Naor Gilon) ने भी प्रतिक्रिया देते हुए इसकी निंदा की है और अब फिल्म द कश्मीर फाइल्स के डायरेक्टर विवेक अग्निहोत्री (Vivek Agnihotri) और अभिनेत्री स्वरा भास्कर (Swara Bhaskar) ने भी इस पर प्रतिक्रिया दी है! विवेक अग्निहोत्री ने दी ये प्रतिक्रिया विवेक अग्निहोत्री (Vivek Agnihotri) ने जूरी हेड नदव लापिड (Nadav Lapid) के बयान और उस पर खड़े हुए विवाद का जिक्र नहीं किया, लेकिन उन्होंने ट्वीट किया, ”सुप्रभात। सच सबसे खतरनाक चीज है। यह लोगों से झूठ बुलवा सकता है।” विवेक अग्निहोत्री के इस ट्वीट को जूरी हेड नदव लापिड के बयान पर खड़े हुए विवाद से जोड़ कर देखा जा रहा है! स्वरा भास्कर ने किया ये ट्वीट वहीं अभिनेत्री स्वरा भास्कर (Swara Bhaskar), जो फिल्म ‘द कश्मीर फाइल्स’ की आलोचना करती रही हैं उन्होंने जूरी हेड नदव लापिड (Nadav Lapid) के बयान की खबर को शेयर करते हुए लिखा है कि जाहिर तौर पर दुनिया के सामने सच्चाई आ गई! वेब स्टोरीज़ Jawan का जश्न: शाहरुख और दीपिका ने लूटी महफिल आयुष्मान खुराना की इन लो बजट फिल्मों ने कमाए 100 करोड़ से ज्यादा Manushi Chhillar ने सिंपल सूट में दिए सादगी से भरे पोज 43 की नेहा धूपिया फिट रहने के लिए करती हैं कड़ी मेहनत, ये तस्वीरें हैं गवाह View More Stories See more The singling out of a film and the language used to describe it is completely unbecoming of a film jury or critic. It reeks of politics. Cinema has always been the harbinger of truth & change, not an agent to stifle or snuff it. Shameful display of political opportunism at #IFFI. — Ranvir Shorey (@RanvirShorey) November 28, 2022 अभिनेता रणवीर शौरी ने नाराजगी जताते हुए ट्वीट किया, “एक फिल्म के लिए जूरी की ओर से इस्तेमाल की गई भाषा बेहद गलत है। इसमें से राजनीति की गंध आ रही है। सिनेमा हमेशा से सच्चाई और बदलाव के मुद्दों पर बनाई गई फिल्मों के लिए जाना जाता है न कि इसे दबाने या सूंघने के एंजेट के लिए। ये IFFI में राजनीतिक अवरसवाद का शर्मनाक प्रदर्शन है।” Also Read The Kashmir Files विवाद पर बोले एक्टर- अब तो प्रोपेगेंडा वाली बात ऑफिशियल हो गई, लोग करने लगे खिंचाई बता दें कि सोमवार की रात, फिल्म फेस्टिवल में बोलते हुए नदव लापिड ने ‘द कश्मीर फाइल्स’ को लेकर कहा, “यह एक प्रोपगेंडा, घटिया फिल्म की तरह महसूस हुआ, जो इस तरह के एक प्रतिष्ठित फिल्म समारोह के। इस पर अभिनेता अनुपम खेर ने ट्वीट किया, “‘झूठ का कद कितना भी ऊंचा क्यों ना हो.. सत्य के मुकाबले में हमेशा छोटा ही होता है” ANI से बात करते हुए अनुपम खेर ने कहा कि यहूदी नरसंहार (holocaust) सही है तो कश्मीरी पंडितों का पलायन (exodus) भी सही है। यह टूलकिट गैंग के एक्टिव होने के तुरंत बाद हुआ, लगता है प्री-प्लैंड था। उनके लिए इस तरह का बयान देना शर्मनाक है।\n"
          ]
        }
      ]
    },
    {
      "cell_type": "markdown",
      "source": [],
      "metadata": {
        "id": "W791s_b6uF81"
      }
    },
    {
      "cell_type": "markdown",
      "source": [
        "# zeenews.india.com Non Working"
      ],
      "metadata": {
        "id": "uaZmr8u4ucVP"
      }
    },
    {
      "cell_type": "code",
      "source": [
        "url = 'https://zeenews.india.com/hindi/india/terrorism-cartel-abolished-in-kasmir/732583/amp?utm_campaign=fullarticle&utm_medium=referral&utm_source=inshorts'\n",
        "response = requests.get(url)\n",
        "\n",
        "if response.status_code != 200:\n",
        "    print(\"Failed to retrieve the webpage.\")\n",
        "    exit()\n",
        "soup = BeautifulSoup(response.content, 'html.parser')\n",
        "headlines = soup.find_all('h1')\n",
        "for headline in headlines:\n",
        "    print(\"Headline:\", headline.text.strip())"
      ],
      "metadata": {
        "colab": {
          "base_uri": "https://localhost:8080/"
        },
        "id": "Y4SnliRdunRU",
        "outputId": "0caf1cae-f382-4783-de9a-df238017b7f5"
      },
      "execution_count": null,
      "outputs": [
        {
          "output_type": "stream",
          "name": "stdout",
          "text": [
            "Failed to retrieve the webpage.\n",
            "Headline: Error 403 not available now\n"
          ]
        }
      ]
    },
    {
      "cell_type": "markdown",
      "source": [
        "# India.com (working + Non Modular)"
      ],
      "metadata": {
        "id": "V0qwipGYGGT6"
      }
    },
    {
      "cell_type": "code",
      "source": [
        "url = 'https://www.india.com/hindi-news/chhattisgarh/chhattisgarh-one-woman-naxalite-killed-in-encounter-in-bastar-district-4750136/amp/?utm_campaign=fullarticle&utm_medium=referral&utm_source=inshorts'\n",
        "response = requests.get(url)\n",
        "\n",
        "if response.status_code != 200:\n",
        "    print(\"Failed to retrieve the webpage.\")\n",
        "    exit()\n",
        "soup = BeautifulSoup(response.content, 'html.parser')\n",
        "headlines = soup.find_all('h1')\n",
        "for headline in headlines:\n",
        "    print(\"Headline:\", headline.text.strip())\n",
        "hindi_text=\"\"\n",
        "paragraphs = soup.select('.article-details p')\n",
        "for p in paragraphs:\n",
        "    #print(p)\n",
        "    #print(\"----------------------------------------\")\n",
        "    if \"ब्रेकिंग न्यूज और  लाइव न्यूज  अपडेट के लिए हमें\" in p.get_text() or \"More Hindi-news News\" in p.get_text():\n",
        "        break\n",
        "    elif any('\\u0900' <= c <= '\\u097F' for c in p.get_text()):\n",
        "        hindi_text += p.get_text() + \"\\n\"\n",
        "\n",
        "\n",
        "cleaned_hindi_text = ' '.join(hindi_text.split())\n",
        "cleaned_hindi_text = '\\n'.join(line.strip() for line in cleaned_hindi_text.splitlines() if line.strip())\n",
        "cleaned_hindi_text = re.sub(r'\\s+([.,;!?])', r'\\1', cleaned_hindi_text)\n",
        "\n",
        "print(cleaned_hindi_text)"
      ],
      "metadata": {
        "colab": {
          "base_uri": "https://localhost:8080/"
        },
        "outputId": "5d88f69b-881c-4e7b-f8a9-0d04cf7efa8c",
        "id": "EiALBuaIvbz8"
      },
      "execution_count": null,
      "outputs": [
        {
          "output_type": "stream",
          "name": "stdout",
          "text": [
            "Headline: Chhattisgarh: बस्‍तर में एनकाउंटर में महिला नक्सली ढेर, AK-47 समेत कई हथियार बरामद\n",
            "रायपुर: छत्तीसगढ़ (Chhattisgarh) के नक्सल प्रभावित बस्तर जिले (Naxal-affected Bastar district) में सुरक्षा बलों के साथ मुठभेड़ (encounter) में एक महिला नक्सली मारी (woman Naxalite killed) गई. एनकाउंटर के बाद घटनास्‍थल से वर्दीधारी एक महिला नक्सली का शव(Body of a female Naxal along with arms and ammunition recovered), एक एके-47 राइफल, दो पिस्तौल, 12 बोर की बंदूक, और भारी मात्रा में अन्य सामान बरामद किया गया है. सुरक्षा बल के जवान आज शुक्रवार को सुबह करीब 8 बजे जब चांदामेटा और पयारभांट गांव के बीच जंगल में थे, तब नक्सलियों ने बस्तर डीआरजी के जवानों पर गोलीबारी शुरू कर दी. इसके बाद मठभेड़ शुरू हो गई. कुछ देर तक दोनों ओर से गोलीबारी के बाद नक्सली वहां से भाग गए. बाद में जब सुरक्षा बलों ने घटनास्थल की तलाशी ली, तब वहां वर्दीधारी एक महिला नक्सली का शव, एक एके-47 राइफल, दो पिस्तौल, 12 बोर की बंदूक, और भारी मात्रा में अन्य सामान बरामद हुआ.\n"
          ]
        }
      ]
    },
    {
      "cell_type": "markdown",
      "source": [
        "# Money Control (working+ Non Modular)"
      ],
      "metadata": {
        "id": "3wXyat289Plt"
      }
    },
    {
      "cell_type": "code",
      "source": [
        "url = 'https://hindi.moneycontrol.com/news/india/trends/gennova-pharma-makes-vaccine-for-omicron-govt-to-review-india-s-1st-strainspecific-covid-vax-402551.html/amp?utm_campaign=fullarticle&utm_medium=referral&utm_source=inshorts'\n",
        "response = requests.get(url)\n",
        "\n",
        "if response.status_code != 200:\n",
        "    print(\"Failed to retrieve the webpage.\")\n",
        "    exit()\n",
        "soup = BeautifulSoup(response.content, 'html.parser')\n",
        "headlines = soup.find_all('h1')\n",
        "for headline in headlines:\n",
        "    print(\"Headline:\", headline.text.strip())\n",
        "article = soup.findAll('p')\n",
        "text=\" \"\n",
        "for a in article:\n",
        "  if \"First Published\" in a.get_text():\n",
        "    break\n",
        "  else:\n",
        "    text+=a.get_text()\n",
        "  #print(a)\n",
        "  #print(\"-------------------\")\n",
        "print(text)"
      ],
      "metadata": {
        "colab": {
          "base_uri": "https://localhost:8080/"
        },
        "id": "Ve3vmJBn9SU_",
        "outputId": "0b4a74ec-c4b7-4358-819b-af157050e21d"
      },
      "execution_count": null,
      "outputs": [
        {
          "output_type": "stream",
          "name": "stdout",
          "text": [
            "Headline: Omicron के लिए वैक्सीन? Gennova Pharma बना रही पहली स्ट्रेन केंद्रित कोविड वैक्सीन, सरकार करेगी रिव्यू\n",
            " Gennova Pharma : पुणे की फार्मास्युटिकल कंपनी जिनोवा बायोफार्मास्युटिकल्स लि. ने अपनी कोविड-19 मेसेंजर या एमआरएनए वैक्सीन का तीसरे चरण का ट्रायल लगभग पूरा कर लिया है। यहां तक कि कंपनी ने इसी टेक्नोलॉजी का इस्तेमाल करते हुए ओमीक्रोन स्पेसिफिक वैक्सीन (Omicron-specific vaccine) का विकास शुरू कर दिया है। टाइम्स ऑफ इंडिया की एक रिपोर्ट के मुताबिक, जिनोवा ने ओमीक्रोन वैरिएंट के लिए एमआरएनए वैक्सीन विकसित की है, जिसे सुरक्षा और प्रभाव के परीक्षण के लिए इंसानों में इस्तेमाल किया जाएगा।कैसे काम करती है यह वैक्सीनमेसेंजर आरएनए या एमआरएनए टेक्नोलॉजी में इम्यून रिस्पांस को बढ़ाने के लिए वायरस के जेनेटिक कोड (आरएनए) के एक छोटे से हिस्से को शरीर में प्रवेश कराया जाता है। इसमें प्रोटीन बनाने के लिए मानव कोशिकाओं के लिए निर्देश होते हैं, जिसमें नोवेल कोरोनावायरस एक हिस्से की नकल करते हैं और इससे इम्यून सिस्टम सक्रिय हो जाता है। वैक्सीन में कोई वास्तविक वायरस शामिल नहीं होता है।PF: जानें कैसे मेडिकल इमरजेंसी के समय पीएफ से दो बार निकाल सकते हैं पैसाजिनोवा ने अमेरिकी कंपनी के साथ मिलकर बनाई है वैक्सीनएक्सपर्ट डॉ. गगनदीप कांग ने एमआरएनए वैक्सीन को सबसे अच्छी बूस्टर डोज के रूप में सुझाया है। एक वरिष्ठ सरकारी अधिकारी ने न्यूज 18 से बातचीत में कहा कि एचडीटी बायोटेक कॉरपोरेशन, यूएसए के साथ मिलकर जिनोवा ने एमआरएनए वैक्सीन (एजीसीओ19) विकसित की है, जो रोडेंड और नॉन ह्यूमन मॉडल्स में सुरक्षित, एंटीबॉडी एक्टीबॉडी न्यूट्रलाइजेशन में सक्षम साबित हुई है।SBI Good News: FD पर मिलेगा ज्यादा ब्याज, एसबीआई बैंक ने बढ़ाया इंटरेस्ट रेटजिनोवा ने जमा किया दूसरे चरण का ट्रायल डाटाटाइम्स ऑफ इंडिया की रिपोर्ट के मुताबिक, जिनोवा ने 3,000 से ज्यादा सबजेक्ट्स पर दूसरे चरण का ट्रायल डाटा जमा करने के बाद अपने डेल्टा वैरिएंड बेस्ड दो डोज के एमआरएनए के तीसरे चरण का ट्रायल पूरा करने के करीब है। भारत की ड्रग रेग्युलेटर द्वारा इस हफ्ते डाटा की समीक्षा करने और इसकी मंजूरी से जुड़ा फैसला लेने का अनुमान है।कोविड टीकाकरण पर भारत के तकनीक परामर्श समूह के चेयरमैन डा. एन के अरोड़ा ने कहा, “ड्रग रेग्युलेटर स्टडी करेगा और इसे मंजूरी देने को लेकर फैसला करेगा।”\n"
          ]
        }
      ]
    },
    {
      "cell_type": "markdown",
      "source": [
        "# lokmatnews. in( Working + Non Modular)\n"
      ],
      "metadata": {
        "id": "S8XTp30to1Q7"
      }
    },
    {
      "cell_type": "code",
      "source": [
        "url = 'https://inshorts.com/hi/news/पूर्व-अकाली-दल-नेता-ने-ट्विटर-को-भेजा-लीगल-नोटिस-कंगना-का-अकाउंट-डिलीट-करने-को-कहा-1612373514537'\n",
        "response = requests.get(url)\n",
        "\n",
        "if response.status_code != 200:\n",
        "    print(\"Failed to retrieve the webpage.\")\n",
        "    exit()\n",
        "soup = BeautifulSoup(response.content, 'html.parser')\n",
        "headlines = soup.find_all('h1')\n",
        "for headline in headlines:\n",
        "    print(\"Headline:\", headline.text.strip())\n",
        "\n",
        "paragraphs = soup.select('.article-contentText p')\n",
        "article_text = \"\"\n",
        "for paragraph in paragraphs:\n",
        "  article_text += paragraph.get_text() + \"\\n\"\n",
        "print(article_text)\n"
      ],
      "metadata": {
        "colab": {
          "base_uri": "https://localhost:8080/"
        },
        "id": "ShTQbVkpta-L",
        "outputId": "a6beb354-1c91-4c86-b569-3d9f3f6e5906"
      },
      "execution_count": null,
      "outputs": [
        {
          "output_type": "stream",
          "name": "stdout",
          "text": [
            "\n"
          ]
        }
      ]
    },
    {
      "cell_type": "markdown",
      "source": [
        "# hindi.latestly.com (Working + Non Modular)"
      ],
      "metadata": {
        "id": "VpzfKTDpuolT"
      }
    },
    {
      "cell_type": "code",
      "source": [
        "url = 'https://www.lokmatnews.in/india/santosh-gangwar-may-be-appointed-pro-tem-speaker-for-17th-lok-sabha/?utm_campaign=fullarticle&utm_medium=referral&utm_source=inshorts'\n",
        "response = requests.get(url)\n",
        "\n",
        "if response.status_code != 200:\n",
        "    print(\"Failed to retrieve the webpage.\")\n",
        "    exit()\n",
        "soup = BeautifulSoup(response.content, 'html.parser')\n",
        "headlines = soup.find_all('h1')\n",
        "for headline in headlines:\n",
        "    print(\"Headline:\", headline.text.strip())\n",
        "paragraphs = soup.select('article p')\n",
        "article_text = \"\"\n",
        "for paragraph in paragraphs:\n",
        "  #print(paragraph)\n",
        "  #print(\" -----------------------------------\")\n",
        "  if \"(यह सिंडिकेटेड न्यूज़ फीड से अनएडिटेड और ऑटो-जेनरेटेड स्टोरी है, ऐसी संभावना है कि लेटेस्टली स्टाफ द्वारा इसमें कोई बदलाव या एडिट नहीं किया गया है)\" in paragraph.get_text():\n",
        "    break\n",
        "  else:\n",
        "    article_text += paragraph.get_text() + \"\\n\"\n",
        "print(article_text)"
      ],
      "metadata": {
        "colab": {
          "base_uri": "https://localhost:8080/"
        },
        "id": "d0wSqv3su2rD",
        "outputId": "b2f9d56e-2c77-4aa2-d9ea-e7aaa614d0db"
      },
      "execution_count": null,
      "outputs": [
        {
          "output_type": "stream",
          "name": "stdout",
          "text": [
            "Headline: संतोष गंगवार बन सकते हैं प्रोटेम स्पीकर, आठवीं बार चुनाव जीतकर पहुंचे हैं लोकसभा\n",
            " By रामदीप मिश्रा | Published: May 30, 2019 09:29 AM2019-05-30T09:29:25+5:302019-05-30T09:29:25+5:30\n",
            "भारतीय जनता पार्टी (बीजेपी) के नेता और वरिष्ठतम लोकसभा सदस्य संतोष गंगवार को 17वीं लोकसभा के लिए प्रोटेम स्पीकर नियुक्त किया जा सकता है। हालांकि उनके साथ सुल्तानपुर से पार्टी की सांसद मेनका गांधी का भी नाम आगे चल रहा है, लेकिन कहा जा रहा है कि उन्हें मंत्रिमंडल में जगह मिल सकती है। ऐसे में संतोष गंगवार को प्रोटेम स्पीकर बनाया जा सकता है। संतोष गंगवार और मेनका गांधी दोनों ही आठ बार चुनाव जीतकर लोकसभा पहुंचे हैं।\n",
            "आज शुक्रवार को होने वाले शपथ ग्रहण समारोह में यदि संतोष गंगवार और मेनका गांधी दोनों को कैबिनेट में शामिल किया जाता है, तो केरल के कांग्रेस सांसद कोडिकुन्निल सुरेश को प्रोटेम स्पीकर बनाया जा सकता है। 16वीं लोकसभा के लिए कांग्रेस के नेता कमलनाथ को प्रोटेम स्पीकर नियुक्ति किया गया था। \n",
            "प्रोटेम स्पीकर सबसे वरिष्ठ सांसद को बनाया जाता है. इसके बाद लोकसभा स्पीकर और डिप्टी स्पीकर का चुनाव होगा. ये लोकसभा में परम्परा रही है कि स्पीकर के पद पर सत्ता पक्ष का सांसद और डिप्टी स्पीकर के पद विपक्षी दलों में किसी सांसद को जाता है. 16वीं लोकसभा में स्पीकर बीजेपी सांसद सुमित्रा महाजन थीं और डिप्टी स्पीकर एआईएडीएमके के सांसद थम्बी दौरई थे.\n",
            "स्पीकर और डिप्टी स्पीकर का चयन संसद के सदस्य करते हैं, लेकिन उससे पहले प्रोटेम स्पीकर की नियुक्ति की जाती है जोकि अस्थायी स्पीकर होता है और चुनाव के बाद पहली बैठक की अध्यक्षता प्रोटेम स्पीकर ही करता है। इसी के तहत स्पीकर और डिप्टी स्पीकर का चयन करवाया जाता है। प्रोटेम स्पीकर के पास स्थाई स्पीकर जैसे अधिकार नहीं होते। सदन को भंग करने जैसे अति महत्त्पूर्ण निर्णय प्रोटेम स्पीकर के द्वारा नहीं लिए जा सकते। आमतौर पर सदन के सबसे वरिष्ठ सदस्य को इस पद के लिए चुना जाता है, जो तब स्थायी स्पीकर चुने जाने तक गतिविधियों को करता है। प्रोटेम स्पीकर का मुख्य कर्तव्य सदन के नए सदस्यों को पद की शपथ दिलाना होता है।\n",
            "आपको बता दें, नरेंद्र मोदी ने आज (गुरुवार) शाम को प्रधानमंत्री पद की दूसरी बार शपथग्रहण करेंगे। उनके साथ कई मंत्री भी शपथ लेंगे। यह शपथग्रहण समारोह शाम 7 बजे राष्ट्रपति भवन में है। समारोह में देश-विदेश से 6000 से ज्यादा मेहमान हिस्सा लेने वाले हैं। समारोह में BIMSTEC देशों के प्रमुख शामिल होंगे। इस कार्यक्रम में बीजेपी शासित राज्यों के सीएम के साथ-साथ दूसरे राज्यों के भी मुख्यमंत्री शामिल हो सकते हैं। वहीं, पीएम मोदी ने आज सुबह महात्मा गांधी समेत पूर्व प्रधानमंत्री अटल बिहारी वाजपेयी और शहीदों को श्रद्धांजलि दी। \n",
            "\n"
          ]
        }
      ]
    },
    {
      "cell_type": "markdown",
      "source": [
        "# Indiatv.in (Working + Non Modular)"
      ],
      "metadata": {
        "id": "AQl4Qzw9UK6Z"
      }
    },
    {
      "cell_type": "code",
      "source": [
        "url = 'https://www.indiatv.in/amp/india/national/kk-venugopal-has-agreed-to-continue-as-attorney-general-for-3-more-months-2022-06-29-861174?utm_campaign=fullarticle&utm_medium=referral&utm_source=inshorts'\n",
        "response = requests.get(url)\n",
        "\n",
        "if response.status_code != 200:\n",
        "    print(\"Failed to retrieve the webpage.\")\n",
        "    exit()\n",
        "soup = BeautifulSoup(response.content, 'html.parser')\n",
        "headlines = soup.find_all('h1')\n",
        "for headline in headlines:\n",
        "    print(\"Headline:\", headline.text.strip())\n",
        "\n",
        "paragraphs = soup.select('p')\n",
        "article_text = \"\"\n",
        "for paragraph in paragraphs:\n",
        "  #print(paragraph)\n",
        "  #print(\" -----------------------------------\")\n",
        "  if any('\\u0900' <= c <= '\\u097F' for c in paragraph.get_text()):\n",
        "    article_text += paragraph.get_text() + \"\\n\"\n",
        "print(article_text)"
      ],
      "metadata": {
        "colab": {
          "base_uri": "https://localhost:8080/"
        },
        "id": "pTtv77hQUQIP",
        "outputId": "3f992a2e-9e22-4728-c7f7-6c317fb421b3"
      },
      "execution_count": null,
      "outputs": [
        {
          "output_type": "stream",
          "name": "stdout",
          "text": [
            "Headline: K. K. Venugopal: अटॉर्नी जनरल पद पर 3 महीने और बने रहने के लिए केके वेणुगोपाल ने दी सहमति\n",
            "K. K. Venugopal: वरिष्ठ अधिवक्ता के. के. वेणुगोपाल तीन और महीनों के लिए अटॉर्नी जनरल के रूप में बने रहने के लिए सहमत हैं। उनका कार्यकाल 30 जून, 2022 को समाप्त हो रहा है। केंद्र सरकार ने वरिष्ठ अधिवक्ता केके वेणुगोपाल से भारत के अटॉर्नी जनरल के रूप में बने रहने का अनुरोध किया। उनका स्वीकृत कार्यकाल 30 जून, 2022 तक है। केंद्र सरकार के अनुरोध पर वरिष्ठ अधिवक्ता केके वेणुगोपाल भारत के अटॉर्नी जनरल के रूप में बने रहने के लिए सहमत हुए। सूत्रों के अनुसार वेणुगोपाल उम्र के चलते एकबारगी इस पद से अलग होना चाहते थे। लेकिन यह भी कहा जा रहा था कि वर्तमान हालातों में सरकार के लिए वेणुगोपाल इस पद के लिए सबसे उपयुक्त व्यक्ति हैं। इसके चलते सरकार एक बार फिर उन्हें ही इस पद पर बनाए रखना चाहेगी।  \n",
            "पिछली साल केंद्र सरकार ने के. के. वेणुगोपाल को दूसरी बार सेवा विस्तार दिया था। केंद्र सरकार ने उनका कार्यकाल एक साल के लिए बढ़ा दिया था। वेणुगोपाल को पीएम मोदी के नेतृत्व वाली केंद्र सरकार ने 15वें अटॉर्नी जनरल के रूप में एक जुलाई 2017 को तीन साल के लिए नियुक्त किया था। पिछले साल 30 जून को इनका कार्यकाल पूरा हो गया था। जिसके बाद केंद्र सरकार ने एक साल के लिए बढ़ा दिया था। इस साल 30 जून, 2022 को उनका कार्यकाल पूरा हो रहा है, इस बीच खबर है कि वरिष्ठ अधिवक्ता के. के. वेणुगोपाल तीन और महीनों के लिए अटॉर्नी जनरल के रूप में बने रहने के लिए सहमत हैं। \n",
            "गौरतलब है कि वेणुगोपाल इससे पहले 1977 से 1979 तक जब देश में मोरारजी देसाई के नेतृत्व वाली सरकार थी, तब देश के अतिरिक्त सॉलिसिटर जनरल रह चुके हैं। वेणुगोपाल को साल 2002 में भारत सरकार ने सार्वजनिक क्षेत्र में उल्लेखनीय योगदान के लिए देश के तीसरे सर्वोच्च नागरिक अलंकरण पद्म भूषण से सम्मानित किया था। \n",
            "अटॉर्नी जनरल केंद्र सरकार के लिए देश के सबसे शीर्ष कानून अधिकारी और मुख्य कानूनी सलाहकार होते हैं। जो सुप्रीम कोर्ट में महत्वपूर्ण मामलों में केंद्र सरकार का प्रतिनिधित्व करते हैं। अटॉर्नी जनरल सरकार का प्रथम विधि अधिकारी होता है। \n",
            "\n"
          ]
        }
      ]
    },
    {
      "cell_type": "markdown",
      "source": [
        "# hindi.news24online.com ( Working + Non Modular)"
      ],
      "metadata": {
        "id": "UY6Lso7sWuzY"
      }
    },
    {
      "cell_type": "code",
      "source": [
        "url = 'https://hindi.news24online.com/state/gujarat/gujarat-assembly-election-2022-dg-vanjara-formed-party-named-praja-vijay-paksha/81898/amp/?utm_campaign=fullarticle&utm_medium=referral&utm_source=inshorts'\n",
        "response = requests.get(url)\n",
        "\n",
        "if response.status_code != 200:\n",
        "    print(\"Failed to retrieve the webpage.\")\n",
        "    exit()\n",
        "soup = BeautifulSoup(response.content, 'html.parser')\n",
        "headlines = soup.find_all('h1')\n",
        "for headline in headlines:\n",
        "    print(\"Headline:\", headline.text.strip())\n",
        "\n",
        "paragraphs = soup.select('p')\n",
        "article_text = \"\"\n",
        "for paragraph in paragraphs:\n",
        "  #print(paragraph)\n",
        "  #print(\" -----------------------------------\")\n",
        "  if \"देश और दुनिया की ताज़ा खबरें सबसे पहले न्यूज़ 24 पर फॉलो करें न्यूज़ 24 को\" in paragraph.get_text():\n",
        "    break\n",
        "  if any('\\u0900' <= c <= '\\u097F' for c in paragraph.get_text()):\n",
        "    article_text += paragraph.get_text() + \"\\n\"\n",
        "print(article_text)"
      ],
      "metadata": {
        "colab": {
          "base_uri": "https://localhost:8080/"
        },
        "id": "U1jt1lUwWysf",
        "outputId": "f5e214c0-1281-4172-fe5c-ba8fc3d28c46"
      },
      "execution_count": null,
      "outputs": [
        {
          "output_type": "stream",
          "name": "stdout",
          "text": [
            "Headline: Gujarat Election 2022: ‘प्रजा विजय पक्ष’ नाम से डीजी बंजारा ने बनाई पार्टी, बोले- लोहा ही लोहे को काट सकता है\n",
            "Gujarat Assembly Election 2022: वंजारा ने कहा कि 27 साल से एक ही पार्टी शासन में है। लंबे समय तक सत्ता में अगर एक ही पार्टी रहती है तो सत्ता भ्रष्ट कर देती है।\n",
            "वंजारा ने कहा कि 1960 में गुजरात बना। उसके बाद कांग्रेस का शासन रहा। अब 27 साल से एक ही पार्टी शासन में है। लंबे समय तक सत्ता में अगर एक ही पार्टी रहती है तो सत्ता भ्रष्ट कर देती है। पहले यह परिस्थिति कांग्रेस के समय में पैदा हुई थी और अब यह परिस्थिति बीजेपी के लिए लागू हो रही है।\n",
            "उन्होंने कहा कि जैसे विदेशों में है, उसी तरह से राज्य में दो ही पक्ष है, जो बारी-बारी सत्ता का भोग करें। एक पक्ष 2 साल या 5 साल तक सत्ता में रहे और उसके बाद सत्ता परिवर्तन होना ही चाहिए। अगर ऐसा नहीं होता तो कई बुराइयां पैदा होती है, जो अभी गुजरात में है इसीलिए हम प्रजा विजय पक्ष गुजरात में लेकर आए हैं।\n",
            "डीजी वंजारा ने कहा कि अब लोगों की मानसिकता देखते हुए सत्ता में मौजूद हिंदुत्ववादी पक्ष के सामने दूसरे हिंदुत्ववादी पक्ष को स्थान देना चाहती है क्योंकि हिंदूवादी पक्ष का स्थान दूसरा हिंदूवादी पक्ष ही ले सकता है। उन्होंने कहा कि डीजी बंजारा टिकट के लिए किसी लाइन में खड़े रहने वालों में से नहीं है, वह जहां खड़े रहते हैं लाइन वहीं से शुरू होती है।\n",
            "अभी पढ़ें – कांग्रेस के सीनियर नेता पी चिदंबरम का भाजपा पर तंज, बोले- मोरबी हादसे ने गुजरात को शर्मसार किया\n",
            "उन्होंने कहा कि हमारी पार्टी और बीजेपी में एक फर्क है। बीजेपी हिंदुत्ववादी पक्ष होने के बावजूद सत्ता के इर्द-गिर्द रहना चाहती है जबकि प्रजा विजय पक्ष राज्य सत्ता के साथ धर्म सत्ता में भी बने रहना चाहती है। उन्होंने कहा कि राजसत्ता के साथ धर्म सत्ता होनी चाहिए। इस विचारधारा के साथ प्रजा विजय पक्ष मैदान में आया है कि जो गुजरात में पूरे 182 सीटों पर चुनाव लड़ेगी।\n",
            "अभी पढ़ें –  देश से जुड़ी खबरें यहाँ पढ़ें\n",
            "\n"
          ]
        }
      ]
    },
    {
      "cell_type": "markdown",
      "source": [
        "# hindi.theprint.in (Working)"
      ],
      "metadata": {
        "id": "C_xHn2PeaY43"
      }
    },
    {
      "cell_type": "code",
      "source": [
        "url = 'https://hindi.theprint.in/india/%e0%a4%aa%e0%a4%b6%e0%a5%8d%e0%a4%9a%e0%a4%bf%e0%a4%ae-%e0%a4%b0%e0%a5%87%e0%a4%b2%e0%a4%b5%e0%a5%87-%e0%a4%a8%e0%a5%87-%e0%a4%ae%e0%a5%81%e0%a4%82%e0%a4%ac%e0%a4%88-%e0%a4%a6%e0%a4%bf%e0%a4%b2/326196/?amp=&utm_campaign=fullarticle&utm_medium=referral&utm_source=inshorts'\n",
        "response = requests.get(url)\n",
        "\n",
        "if response.status_code != 200:\n",
        "    print(\"Failed to retrieve the webpage.\")\n",
        "    exit()\n",
        "soup = BeautifulSoup(response.content, 'html.parser')\n",
        "headlines = soup.find_all('h1')\n",
        "for headline in headlines:\n",
        "    print(\"Headline:\", headline.text.strip())"
      ],
      "metadata": {
        "colab": {
          "base_uri": "https://localhost:8080/",
          "height": 737
        },
        "id": "GTwnFPNQaemv",
        "outputId": "546a82d8-b292-4458-e6e3-3105857e4b84"
      },
      "execution_count": null,
      "outputs": [
        {
          "output_type": "error",
          "ename": "SSLError",
          "evalue": "ignored",
          "traceback": [
            "\u001b[0;31m---------------------------------------------------------------------------\u001b[0m",
            "\u001b[0;31mSSLCertVerificationError\u001b[0m                  Traceback (most recent call last)",
            "\u001b[0;32m/usr/local/lib/python3.10/dist-packages/urllib3/connectionpool.py\u001b[0m in \u001b[0;36m_make_request\u001b[0;34m(self, conn, method, url, body, headers, retries, timeout, chunked, response_conn, preload_content, decode_content, enforce_content_length)\u001b[0m\n\u001b[1;32m    466\u001b[0m             \u001b[0;32mtry\u001b[0m\u001b[0;34m:\u001b[0m\u001b[0;34m\u001b[0m\u001b[0;34m\u001b[0m\u001b[0m\n\u001b[0;32m--> 467\u001b[0;31m                 \u001b[0mself\u001b[0m\u001b[0;34m.\u001b[0m\u001b[0m_validate_conn\u001b[0m\u001b[0;34m(\u001b[0m\u001b[0mconn\u001b[0m\u001b[0;34m)\u001b[0m\u001b[0;34m\u001b[0m\u001b[0;34m\u001b[0m\u001b[0m\n\u001b[0m\u001b[1;32m    468\u001b[0m             \u001b[0;32mexcept\u001b[0m \u001b[0;34m(\u001b[0m\u001b[0mSocketTimeout\u001b[0m\u001b[0;34m,\u001b[0m \u001b[0mBaseSSLError\u001b[0m\u001b[0;34m)\u001b[0m \u001b[0;32mas\u001b[0m \u001b[0me\u001b[0m\u001b[0;34m:\u001b[0m\u001b[0;34m\u001b[0m\u001b[0;34m\u001b[0m\u001b[0m\n",
            "\u001b[0;32m/usr/local/lib/python3.10/dist-packages/urllib3/connectionpool.py\u001b[0m in \u001b[0;36m_validate_conn\u001b[0;34m(self, conn)\u001b[0m\n\u001b[1;32m   1091\u001b[0m         \u001b[0;32mif\u001b[0m \u001b[0mconn\u001b[0m\u001b[0;34m.\u001b[0m\u001b[0mis_closed\u001b[0m\u001b[0;34m:\u001b[0m\u001b[0;34m\u001b[0m\u001b[0;34m\u001b[0m\u001b[0m\n\u001b[0;32m-> 1092\u001b[0;31m             \u001b[0mconn\u001b[0m\u001b[0;34m.\u001b[0m\u001b[0mconnect\u001b[0m\u001b[0;34m(\u001b[0m\u001b[0;34m)\u001b[0m\u001b[0;34m\u001b[0m\u001b[0;34m\u001b[0m\u001b[0m\n\u001b[0m\u001b[1;32m   1093\u001b[0m \u001b[0;34m\u001b[0m\u001b[0m\n",
            "\u001b[0;32m/usr/local/lib/python3.10/dist-packages/urllib3/connection.py\u001b[0m in \u001b[0;36mconnect\u001b[0;34m(self)\u001b[0m\n\u001b[1;32m    641\u001b[0m \u001b[0;34m\u001b[0m\u001b[0m\n\u001b[0;32m--> 642\u001b[0;31m         sock_and_verified = _ssl_wrap_socket_and_match_hostname(\n\u001b[0m\u001b[1;32m    643\u001b[0m             \u001b[0msock\u001b[0m\u001b[0;34m=\u001b[0m\u001b[0msock\u001b[0m\u001b[0;34m,\u001b[0m\u001b[0;34m\u001b[0m\u001b[0;34m\u001b[0m\u001b[0m\n",
            "\u001b[0;32m/usr/local/lib/python3.10/dist-packages/urllib3/connection.py\u001b[0m in \u001b[0;36m_ssl_wrap_socket_and_match_hostname\u001b[0;34m(sock, cert_reqs, ssl_version, ssl_minimum_version, ssl_maximum_version, cert_file, key_file, key_password, ca_certs, ca_cert_dir, ca_cert_data, assert_hostname, assert_fingerprint, server_hostname, ssl_context, tls_in_tls)\u001b[0m\n\u001b[1;32m    782\u001b[0m \u001b[0;34m\u001b[0m\u001b[0m\n\u001b[0;32m--> 783\u001b[0;31m     ssl_sock = ssl_wrap_socket(\n\u001b[0m\u001b[1;32m    784\u001b[0m         \u001b[0msock\u001b[0m\u001b[0;34m=\u001b[0m\u001b[0msock\u001b[0m\u001b[0;34m,\u001b[0m\u001b[0;34m\u001b[0m\u001b[0;34m\u001b[0m\u001b[0m\n",
            "\u001b[0;32m/usr/local/lib/python3.10/dist-packages/urllib3/util/ssl_.py\u001b[0m in \u001b[0;36mssl_wrap_socket\u001b[0;34m(sock, keyfile, certfile, cert_reqs, ca_certs, server_hostname, ssl_version, ciphers, ssl_context, ca_cert_dir, key_password, ca_cert_data, tls_in_tls)\u001b[0m\n\u001b[1;32m    468\u001b[0m \u001b[0;34m\u001b[0m\u001b[0m\n\u001b[0;32m--> 469\u001b[0;31m     \u001b[0mssl_sock\u001b[0m \u001b[0;34m=\u001b[0m \u001b[0m_ssl_wrap_socket_impl\u001b[0m\u001b[0;34m(\u001b[0m\u001b[0msock\u001b[0m\u001b[0;34m,\u001b[0m \u001b[0mcontext\u001b[0m\u001b[0;34m,\u001b[0m \u001b[0mtls_in_tls\u001b[0m\u001b[0;34m,\u001b[0m \u001b[0mserver_hostname\u001b[0m\u001b[0;34m)\u001b[0m\u001b[0;34m\u001b[0m\u001b[0;34m\u001b[0m\u001b[0m\n\u001b[0m\u001b[1;32m    470\u001b[0m     \u001b[0;32mreturn\u001b[0m \u001b[0mssl_sock\u001b[0m\u001b[0;34m\u001b[0m\u001b[0;34m\u001b[0m\u001b[0m\n",
            "\u001b[0;32m/usr/local/lib/python3.10/dist-packages/urllib3/util/ssl_.py\u001b[0m in \u001b[0;36m_ssl_wrap_socket_impl\u001b[0;34m(sock, ssl_context, tls_in_tls, server_hostname)\u001b[0m\n\u001b[1;32m    512\u001b[0m \u001b[0;34m\u001b[0m\u001b[0m\n\u001b[0;32m--> 513\u001b[0;31m     \u001b[0;32mreturn\u001b[0m \u001b[0mssl_context\u001b[0m\u001b[0;34m.\u001b[0m\u001b[0mwrap_socket\u001b[0m\u001b[0;34m(\u001b[0m\u001b[0msock\u001b[0m\u001b[0;34m,\u001b[0m \u001b[0mserver_hostname\u001b[0m\u001b[0;34m=\u001b[0m\u001b[0mserver_hostname\u001b[0m\u001b[0;34m)\u001b[0m\u001b[0;34m\u001b[0m\u001b[0;34m\u001b[0m\u001b[0m\n\u001b[0m",
            "\u001b[0;32m/usr/lib/python3.10/ssl.py\u001b[0m in \u001b[0;36mwrap_socket\u001b[0;34m(self, sock, server_side, do_handshake_on_connect, suppress_ragged_eofs, server_hostname, session)\u001b[0m\n\u001b[1;32m    512\u001b[0m         \u001b[0;31m# ctx._wrap_socket()\u001b[0m\u001b[0;34m\u001b[0m\u001b[0;34m\u001b[0m\u001b[0m\n\u001b[0;32m--> 513\u001b[0;31m         return self.sslsocket_class._create(\n\u001b[0m\u001b[1;32m    514\u001b[0m             \u001b[0msock\u001b[0m\u001b[0;34m=\u001b[0m\u001b[0msock\u001b[0m\u001b[0;34m,\u001b[0m\u001b[0;34m\u001b[0m\u001b[0;34m\u001b[0m\u001b[0m\n",
            "\u001b[0;32m/usr/lib/python3.10/ssl.py\u001b[0m in \u001b[0;36m_create\u001b[0;34m(cls, sock, server_side, do_handshake_on_connect, suppress_ragged_eofs, server_hostname, context, session)\u001b[0m\n\u001b[1;32m   1070\u001b[0m                         \u001b[0;32mraise\u001b[0m \u001b[0mValueError\u001b[0m\u001b[0;34m(\u001b[0m\u001b[0;34m\"do_handshake_on_connect should not be specified for non-blocking sockets\"\u001b[0m\u001b[0;34m)\u001b[0m\u001b[0;34m\u001b[0m\u001b[0;34m\u001b[0m\u001b[0m\n\u001b[0;32m-> 1071\u001b[0;31m                     \u001b[0mself\u001b[0m\u001b[0;34m.\u001b[0m\u001b[0mdo_handshake\u001b[0m\u001b[0;34m(\u001b[0m\u001b[0;34m)\u001b[0m\u001b[0;34m\u001b[0m\u001b[0;34m\u001b[0m\u001b[0m\n\u001b[0m\u001b[1;32m   1072\u001b[0m             \u001b[0;32mexcept\u001b[0m \u001b[0;34m(\u001b[0m\u001b[0mOSError\u001b[0m\u001b[0;34m,\u001b[0m \u001b[0mValueError\u001b[0m\u001b[0;34m)\u001b[0m\u001b[0;34m:\u001b[0m\u001b[0;34m\u001b[0m\u001b[0;34m\u001b[0m\u001b[0m\n",
            "\u001b[0;32m/usr/lib/python3.10/ssl.py\u001b[0m in \u001b[0;36mdo_handshake\u001b[0;34m(self, block)\u001b[0m\n\u001b[1;32m   1341\u001b[0m                 \u001b[0mself\u001b[0m\u001b[0;34m.\u001b[0m\u001b[0msettimeout\u001b[0m\u001b[0;34m(\u001b[0m\u001b[0;32mNone\u001b[0m\u001b[0;34m)\u001b[0m\u001b[0;34m\u001b[0m\u001b[0;34m\u001b[0m\u001b[0m\n\u001b[0;32m-> 1342\u001b[0;31m             \u001b[0mself\u001b[0m\u001b[0;34m.\u001b[0m\u001b[0m_sslobj\u001b[0m\u001b[0;34m.\u001b[0m\u001b[0mdo_handshake\u001b[0m\u001b[0;34m(\u001b[0m\u001b[0;34m)\u001b[0m\u001b[0;34m\u001b[0m\u001b[0;34m\u001b[0m\u001b[0m\n\u001b[0m\u001b[1;32m   1343\u001b[0m         \u001b[0;32mfinally\u001b[0m\u001b[0;34m:\u001b[0m\u001b[0;34m\u001b[0m\u001b[0;34m\u001b[0m\u001b[0m\n",
            "\u001b[0;31mSSLCertVerificationError\u001b[0m: [SSL: CERTIFICATE_VERIFY_FAILED] certificate verify failed: unable to get local issuer certificate (_ssl.c:1007)",
            "\nDuring handling of the above exception, another exception occurred:\n",
            "\u001b[0;31mSSLError\u001b[0m                                  Traceback (most recent call last)",
            "\u001b[0;32m/usr/local/lib/python3.10/dist-packages/urllib3/connectionpool.py\u001b[0m in \u001b[0;36murlopen\u001b[0;34m(self, method, url, body, headers, retries, redirect, assert_same_host, timeout, pool_timeout, release_conn, chunked, body_pos, preload_content, decode_content, **response_kw)\u001b[0m\n\u001b[1;32m    789\u001b[0m             \u001b[0;31m# Make the request on the HTTPConnection object\u001b[0m\u001b[0;34m\u001b[0m\u001b[0;34m\u001b[0m\u001b[0m\n\u001b[0;32m--> 790\u001b[0;31m             response = self._make_request(\n\u001b[0m\u001b[1;32m    791\u001b[0m                 \u001b[0mconn\u001b[0m\u001b[0;34m,\u001b[0m\u001b[0;34m\u001b[0m\u001b[0;34m\u001b[0m\u001b[0m\n",
            "\u001b[0;32m/usr/local/lib/python3.10/dist-packages/urllib3/connectionpool.py\u001b[0m in \u001b[0;36m_make_request\u001b[0;34m(self, conn, method, url, body, headers, retries, timeout, chunked, response_conn, preload_content, decode_content, enforce_content_length)\u001b[0m\n\u001b[1;32m    490\u001b[0m                 \u001b[0mnew_e\u001b[0m \u001b[0;34m=\u001b[0m \u001b[0m_wrap_proxy_error\u001b[0m\u001b[0;34m(\u001b[0m\u001b[0mnew_e\u001b[0m\u001b[0;34m,\u001b[0m \u001b[0mconn\u001b[0m\u001b[0;34m.\u001b[0m\u001b[0mproxy\u001b[0m\u001b[0;34m.\u001b[0m\u001b[0mscheme\u001b[0m\u001b[0;34m)\u001b[0m\u001b[0;34m\u001b[0m\u001b[0;34m\u001b[0m\u001b[0m\n\u001b[0;32m--> 491\u001b[0;31m             \u001b[0;32mraise\u001b[0m \u001b[0mnew_e\u001b[0m\u001b[0;34m\u001b[0m\u001b[0;34m\u001b[0m\u001b[0m\n\u001b[0m\u001b[1;32m    492\u001b[0m \u001b[0;34m\u001b[0m\u001b[0m\n",
            "\u001b[0;31mSSLError\u001b[0m: [SSL: CERTIFICATE_VERIFY_FAILED] certificate verify failed: unable to get local issuer certificate (_ssl.c:1007)",
            "\nThe above exception was the direct cause of the following exception:\n",
            "\u001b[0;31mMaxRetryError\u001b[0m                             Traceback (most recent call last)",
            "\u001b[0;32m/usr/local/lib/python3.10/dist-packages/requests/adapters.py\u001b[0m in \u001b[0;36msend\u001b[0;34m(self, request, stream, timeout, verify, cert, proxies)\u001b[0m\n\u001b[1;32m    485\u001b[0m         \u001b[0;32mtry\u001b[0m\u001b[0;34m:\u001b[0m\u001b[0;34m\u001b[0m\u001b[0;34m\u001b[0m\u001b[0m\n\u001b[0;32m--> 486\u001b[0;31m             resp = conn.urlopen(\n\u001b[0m\u001b[1;32m    487\u001b[0m                 \u001b[0mmethod\u001b[0m\u001b[0;34m=\u001b[0m\u001b[0mrequest\u001b[0m\u001b[0;34m.\u001b[0m\u001b[0mmethod\u001b[0m\u001b[0;34m,\u001b[0m\u001b[0;34m\u001b[0m\u001b[0;34m\u001b[0m\u001b[0m\n",
            "\u001b[0;32m/usr/local/lib/python3.10/dist-packages/urllib3/connectionpool.py\u001b[0m in \u001b[0;36murlopen\u001b[0;34m(self, method, url, body, headers, retries, redirect, assert_same_host, timeout, pool_timeout, release_conn, chunked, body_pos, preload_content, decode_content, **response_kw)\u001b[0m\n\u001b[1;32m    843\u001b[0m \u001b[0;34m\u001b[0m\u001b[0m\n\u001b[0;32m--> 844\u001b[0;31m             retries = retries.increment(\n\u001b[0m\u001b[1;32m    845\u001b[0m                 \u001b[0mmethod\u001b[0m\u001b[0;34m,\u001b[0m \u001b[0murl\u001b[0m\u001b[0;34m,\u001b[0m \u001b[0merror\u001b[0m\u001b[0;34m=\u001b[0m\u001b[0mnew_e\u001b[0m\u001b[0;34m,\u001b[0m \u001b[0m_pool\u001b[0m\u001b[0;34m=\u001b[0m\u001b[0mself\u001b[0m\u001b[0;34m,\u001b[0m \u001b[0m_stacktrace\u001b[0m\u001b[0;34m=\u001b[0m\u001b[0msys\u001b[0m\u001b[0;34m.\u001b[0m\u001b[0mexc_info\u001b[0m\u001b[0;34m(\u001b[0m\u001b[0;34m)\u001b[0m\u001b[0;34m[\u001b[0m\u001b[0;36m2\u001b[0m\u001b[0;34m]\u001b[0m\u001b[0;34m\u001b[0m\u001b[0;34m\u001b[0m\u001b[0m\n",
            "\u001b[0;32m/usr/local/lib/python3.10/dist-packages/urllib3/util/retry.py\u001b[0m in \u001b[0;36mincrement\u001b[0;34m(self, method, url, response, error, _pool, _stacktrace)\u001b[0m\n\u001b[1;32m    514\u001b[0m             \u001b[0mreason\u001b[0m \u001b[0;34m=\u001b[0m \u001b[0merror\u001b[0m \u001b[0;32mor\u001b[0m \u001b[0mResponseError\u001b[0m\u001b[0;34m(\u001b[0m\u001b[0mcause\u001b[0m\u001b[0;34m)\u001b[0m\u001b[0;34m\u001b[0m\u001b[0;34m\u001b[0m\u001b[0m\n\u001b[0;32m--> 515\u001b[0;31m             \u001b[0;32mraise\u001b[0m \u001b[0mMaxRetryError\u001b[0m\u001b[0;34m(\u001b[0m\u001b[0m_pool\u001b[0m\u001b[0;34m,\u001b[0m \u001b[0murl\u001b[0m\u001b[0;34m,\u001b[0m \u001b[0mreason\u001b[0m\u001b[0;34m)\u001b[0m \u001b[0;32mfrom\u001b[0m \u001b[0mreason\u001b[0m  \u001b[0;31m# type: ignore[arg-type]\u001b[0m\u001b[0;34m\u001b[0m\u001b[0;34m\u001b[0m\u001b[0m\n\u001b[0m\u001b[1;32m    516\u001b[0m \u001b[0;34m\u001b[0m\u001b[0m\n",
            "\u001b[0;31mMaxRetryError\u001b[0m: HTTPSConnectionPool(host='hindi.theprint.in', port=443): Max retries exceeded with url: /india/%E0%A4%AA%E0%A4%B6%E0%A5%8D%E0%A4%9A%E0%A4%BF%E0%A4%AE-%E0%A4%B0%E0%A5%87%E0%A4%B2%E0%A4%B5%E0%A5%87-%E0%A4%A8%E0%A5%87-%E0%A4%AE%E0%A5%81%E0%A4%82%E0%A4%AC%E0%A4%88-%E0%A4%A6%E0%A4%BF%E0%A4%B2/326196/?amp=&utm_campaign=fullarticle&utm_medium=referral&utm_source=inshorts (Caused by SSLError(SSLCertVerificationError(1, '[SSL: CERTIFICATE_VERIFY_FAILED] certificate verify failed: unable to get local issuer certificate (_ssl.c:1007)')))",
            "\nDuring handling of the above exception, another exception occurred:\n",
            "\u001b[0;31mSSLError\u001b[0m                                  Traceback (most recent call last)",
            "\u001b[0;32m<ipython-input-14-b470527fc9cb>\u001b[0m in \u001b[0;36m<cell line: 2>\u001b[0;34m()\u001b[0m\n\u001b[1;32m      1\u001b[0m \u001b[0murl\u001b[0m \u001b[0;34m=\u001b[0m \u001b[0;34m'https://hindi.theprint.in/india/%e0%a4%aa%e0%a4%b6%e0%a5%8d%e0%a4%9a%e0%a4%bf%e0%a4%ae-%e0%a4%b0%e0%a5%87%e0%a4%b2%e0%a4%b5%e0%a5%87-%e0%a4%a8%e0%a5%87-%e0%a4%ae%e0%a5%81%e0%a4%82%e0%a4%ac%e0%a4%88-%e0%a4%a6%e0%a4%bf%e0%a4%b2/326196/?amp=&utm_campaign=fullarticle&utm_medium=referral&utm_source=inshorts'\u001b[0m\u001b[0;34m\u001b[0m\u001b[0;34m\u001b[0m\u001b[0m\n\u001b[0;32m----> 2\u001b[0;31m \u001b[0mresponse\u001b[0m \u001b[0;34m=\u001b[0m \u001b[0mrequests\u001b[0m\u001b[0;34m.\u001b[0m\u001b[0mget\u001b[0m\u001b[0;34m(\u001b[0m\u001b[0murl\u001b[0m\u001b[0;34m)\u001b[0m\u001b[0;34m\u001b[0m\u001b[0;34m\u001b[0m\u001b[0m\n\u001b[0m\u001b[1;32m      3\u001b[0m \u001b[0;34m\u001b[0m\u001b[0m\n\u001b[1;32m      4\u001b[0m \u001b[0;32mif\u001b[0m \u001b[0mresponse\u001b[0m\u001b[0;34m.\u001b[0m\u001b[0mstatus_code\u001b[0m \u001b[0;34m!=\u001b[0m \u001b[0;36m200\u001b[0m\u001b[0;34m:\u001b[0m\u001b[0;34m\u001b[0m\u001b[0;34m\u001b[0m\u001b[0m\n\u001b[1;32m      5\u001b[0m     \u001b[0mprint\u001b[0m\u001b[0;34m(\u001b[0m\u001b[0;34m\"Failed to retrieve the webpage.\"\u001b[0m\u001b[0;34m)\u001b[0m\u001b[0;34m\u001b[0m\u001b[0;34m\u001b[0m\u001b[0m\n",
            "\u001b[0;32m/usr/local/lib/python3.10/dist-packages/requests/api.py\u001b[0m in \u001b[0;36mget\u001b[0;34m(url, params, **kwargs)\u001b[0m\n\u001b[1;32m     71\u001b[0m     \"\"\"\n\u001b[1;32m     72\u001b[0m \u001b[0;34m\u001b[0m\u001b[0m\n\u001b[0;32m---> 73\u001b[0;31m     \u001b[0;32mreturn\u001b[0m \u001b[0mrequest\u001b[0m\u001b[0;34m(\u001b[0m\u001b[0;34m\"get\"\u001b[0m\u001b[0;34m,\u001b[0m \u001b[0murl\u001b[0m\u001b[0;34m,\u001b[0m \u001b[0mparams\u001b[0m\u001b[0;34m=\u001b[0m\u001b[0mparams\u001b[0m\u001b[0;34m,\u001b[0m \u001b[0;34m**\u001b[0m\u001b[0mkwargs\u001b[0m\u001b[0;34m)\u001b[0m\u001b[0;34m\u001b[0m\u001b[0;34m\u001b[0m\u001b[0m\n\u001b[0m\u001b[1;32m     74\u001b[0m \u001b[0;34m\u001b[0m\u001b[0m\n\u001b[1;32m     75\u001b[0m \u001b[0;34m\u001b[0m\u001b[0m\n",
            "\u001b[0;32m/usr/local/lib/python3.10/dist-packages/requests/api.py\u001b[0m in \u001b[0;36mrequest\u001b[0;34m(method, url, **kwargs)\u001b[0m\n\u001b[1;32m     57\u001b[0m     \u001b[0;31m# cases, and look like a memory leak in others.\u001b[0m\u001b[0;34m\u001b[0m\u001b[0;34m\u001b[0m\u001b[0m\n\u001b[1;32m     58\u001b[0m     \u001b[0;32mwith\u001b[0m \u001b[0msessions\u001b[0m\u001b[0;34m.\u001b[0m\u001b[0mSession\u001b[0m\u001b[0;34m(\u001b[0m\u001b[0;34m)\u001b[0m \u001b[0;32mas\u001b[0m \u001b[0msession\u001b[0m\u001b[0;34m:\u001b[0m\u001b[0;34m\u001b[0m\u001b[0;34m\u001b[0m\u001b[0m\n\u001b[0;32m---> 59\u001b[0;31m         \u001b[0;32mreturn\u001b[0m \u001b[0msession\u001b[0m\u001b[0;34m.\u001b[0m\u001b[0mrequest\u001b[0m\u001b[0;34m(\u001b[0m\u001b[0mmethod\u001b[0m\u001b[0;34m=\u001b[0m\u001b[0mmethod\u001b[0m\u001b[0;34m,\u001b[0m \u001b[0murl\u001b[0m\u001b[0;34m=\u001b[0m\u001b[0murl\u001b[0m\u001b[0;34m,\u001b[0m \u001b[0;34m**\u001b[0m\u001b[0mkwargs\u001b[0m\u001b[0;34m)\u001b[0m\u001b[0;34m\u001b[0m\u001b[0;34m\u001b[0m\u001b[0m\n\u001b[0m\u001b[1;32m     60\u001b[0m \u001b[0;34m\u001b[0m\u001b[0m\n\u001b[1;32m     61\u001b[0m \u001b[0;34m\u001b[0m\u001b[0m\n",
            "\u001b[0;32m/usr/local/lib/python3.10/dist-packages/requests/sessions.py\u001b[0m in \u001b[0;36mrequest\u001b[0;34m(self, method, url, params, data, headers, cookies, files, auth, timeout, allow_redirects, proxies, hooks, stream, verify, cert, json)\u001b[0m\n\u001b[1;32m    587\u001b[0m         }\n\u001b[1;32m    588\u001b[0m         \u001b[0msend_kwargs\u001b[0m\u001b[0;34m.\u001b[0m\u001b[0mupdate\u001b[0m\u001b[0;34m(\u001b[0m\u001b[0msettings\u001b[0m\u001b[0;34m)\u001b[0m\u001b[0;34m\u001b[0m\u001b[0;34m\u001b[0m\u001b[0m\n\u001b[0;32m--> 589\u001b[0;31m         \u001b[0mresp\u001b[0m \u001b[0;34m=\u001b[0m \u001b[0mself\u001b[0m\u001b[0;34m.\u001b[0m\u001b[0msend\u001b[0m\u001b[0;34m(\u001b[0m\u001b[0mprep\u001b[0m\u001b[0;34m,\u001b[0m \u001b[0;34m**\u001b[0m\u001b[0msend_kwargs\u001b[0m\u001b[0;34m)\u001b[0m\u001b[0;34m\u001b[0m\u001b[0;34m\u001b[0m\u001b[0m\n\u001b[0m\u001b[1;32m    590\u001b[0m \u001b[0;34m\u001b[0m\u001b[0m\n\u001b[1;32m    591\u001b[0m         \u001b[0;32mreturn\u001b[0m \u001b[0mresp\u001b[0m\u001b[0;34m\u001b[0m\u001b[0;34m\u001b[0m\u001b[0m\n",
            "\u001b[0;32m/usr/local/lib/python3.10/dist-packages/requests/sessions.py\u001b[0m in \u001b[0;36msend\u001b[0;34m(self, request, **kwargs)\u001b[0m\n\u001b[1;32m    701\u001b[0m \u001b[0;34m\u001b[0m\u001b[0m\n\u001b[1;32m    702\u001b[0m         \u001b[0;31m# Send the request\u001b[0m\u001b[0;34m\u001b[0m\u001b[0;34m\u001b[0m\u001b[0m\n\u001b[0;32m--> 703\u001b[0;31m         \u001b[0mr\u001b[0m \u001b[0;34m=\u001b[0m \u001b[0madapter\u001b[0m\u001b[0;34m.\u001b[0m\u001b[0msend\u001b[0m\u001b[0;34m(\u001b[0m\u001b[0mrequest\u001b[0m\u001b[0;34m,\u001b[0m \u001b[0;34m**\u001b[0m\u001b[0mkwargs\u001b[0m\u001b[0;34m)\u001b[0m\u001b[0;34m\u001b[0m\u001b[0;34m\u001b[0m\u001b[0m\n\u001b[0m\u001b[1;32m    704\u001b[0m \u001b[0;34m\u001b[0m\u001b[0m\n\u001b[1;32m    705\u001b[0m         \u001b[0;31m# Total elapsed time of the request (approximately)\u001b[0m\u001b[0;34m\u001b[0m\u001b[0;34m\u001b[0m\u001b[0m\n",
            "\u001b[0;32m/usr/local/lib/python3.10/dist-packages/requests/adapters.py\u001b[0m in \u001b[0;36msend\u001b[0;34m(self, request, stream, timeout, verify, cert, proxies)\u001b[0m\n\u001b[1;32m    515\u001b[0m             \u001b[0;32mif\u001b[0m \u001b[0misinstance\u001b[0m\u001b[0;34m(\u001b[0m\u001b[0me\u001b[0m\u001b[0;34m.\u001b[0m\u001b[0mreason\u001b[0m\u001b[0;34m,\u001b[0m \u001b[0m_SSLError\u001b[0m\u001b[0;34m)\u001b[0m\u001b[0;34m:\u001b[0m\u001b[0;34m\u001b[0m\u001b[0;34m\u001b[0m\u001b[0m\n\u001b[1;32m    516\u001b[0m                 \u001b[0;31m# This branch is for urllib3 v1.22 and later.\u001b[0m\u001b[0;34m\u001b[0m\u001b[0;34m\u001b[0m\u001b[0m\n\u001b[0;32m--> 517\u001b[0;31m                 \u001b[0;32mraise\u001b[0m \u001b[0mSSLError\u001b[0m\u001b[0;34m(\u001b[0m\u001b[0me\u001b[0m\u001b[0;34m,\u001b[0m \u001b[0mrequest\u001b[0m\u001b[0;34m=\u001b[0m\u001b[0mrequest\u001b[0m\u001b[0;34m)\u001b[0m\u001b[0;34m\u001b[0m\u001b[0;34m\u001b[0m\u001b[0m\n\u001b[0m\u001b[1;32m    518\u001b[0m \u001b[0;34m\u001b[0m\u001b[0m\n\u001b[1;32m    519\u001b[0m             \u001b[0;32mraise\u001b[0m \u001b[0mConnectionError\u001b[0m\u001b[0;34m(\u001b[0m\u001b[0me\u001b[0m\u001b[0;34m,\u001b[0m \u001b[0mrequest\u001b[0m\u001b[0;34m=\u001b[0m\u001b[0mrequest\u001b[0m\u001b[0;34m)\u001b[0m\u001b[0;34m\u001b[0m\u001b[0;34m\u001b[0m\u001b[0m\n",
            "\u001b[0;31mSSLError\u001b[0m: HTTPSConnectionPool(host='hindi.theprint.in', port=443): Max retries exceeded with url: /india/%E0%A4%AA%E0%A4%B6%E0%A5%8D%E0%A4%9A%E0%A4%BF%E0%A4%AE-%E0%A4%B0%E0%A5%87%E0%A4%B2%E0%A4%B5%E0%A5%87-%E0%A4%A8%E0%A5%87-%E0%A4%AE%E0%A5%81%E0%A4%82%E0%A4%AC%E0%A4%88-%E0%A4%A6%E0%A4%BF%E0%A4%B2/326196/?amp=&utm_campaign=fullarticle&utm_medium=referral&utm_source=inshorts (Caused by SSLError(SSLCertVerificationError(1, '[SSL: CERTIFICATE_VERIFY_FAILED] certificate verify failed: unable to get local issuer certificate (_ssl.c:1007)')))"
          ]
        }
      ]
    },
    {
      "cell_type": "markdown",
      "source": [
        "# hindi.newsbytesapp.com (working)"
      ],
      "metadata": {
        "id": "Vedk27Ifb5Do"
      }
    },
    {
      "cell_type": "code",
      "source": [
        "url = 'https://hindi.newsbytesapp.com/news/politics/eknath-shinde-share-letter-of-mla-targetting-uddhav-thackrey/story'\n",
        "response = requests.get(url)\n",
        "\n",
        "if response.status_code != 200:\n",
        "    print(\"Failed to retrieve the webpage.\")\n",
        "    exit()\n",
        "soup = BeautifulSoup(response.content, 'html.parser')\n",
        "headlines = soup.find_all('h1')\n",
        "for headline in headlines:\n",
        "    print(\"Headline:\", headline.text.strip())\n",
        "\n",
        "paragraphs = soup.select('p')\n",
        "article_text = \"\"\n",
        "for paragraph in paragraphs:\n",
        "  #print(paragraph)\n",
        "  #print(\" -----------------------------------\")\n",
        "  if \"देश की खबरें पसंद हैं?\" in paragraph.get_text() or \"राजनीति की खबरें पसंद हैं\" in paragraph.get_text() :\n",
        "    break\n",
        "  if any('\\u0900' <= c <= '\\u097F' for c in paragraph.get_text()):\n",
        "    article_text += paragraph.get_text() + \"\\n\"\n",
        "#print(article_text)\n",
        "cleaned_hindi_text = ' '.join(article_text.split())\n",
        "cleaned_hindi_text = '\\n'.join(line.strip() for line in cleaned_hindi_text.splitlines() if line.strip())\n",
        "cleaned_hindi_text = re.sub(r'\\s+([.,;!?])', r'\\1', cleaned_hindi_text)\n",
        "\n",
        "print(cleaned_hindi_text)"
      ],
      "metadata": {
        "colab": {
          "base_uri": "https://localhost:8080/"
        },
        "id": "8neF7ZZTcAdw",
        "outputId": "eb985bc4-ed47-4f7e-d412-1855c94bd8a5"
      },
      "execution_count": null,
      "outputs": [
        {
          "output_type": "stream",
          "name": "stdout",
          "text": [
            "Headline: एकनाथ शिंदे ने शेयर किया अपने खेमे के विधायक का पत्र, ठाकरे पर साधा निशाना\n",
            "उद्धव ठाकरे के खिलाफ बगावत का झंडा उठाने वाले एकनाथ शिंदे ने गुरुवार को एक पत्र शेयर किया है। संजय शिरसाट नामक विधायक ने यह पत्र बालासाहेब ठाकरे को संबोधित करते हुए लिखा है, लेकिन यह उद्धव ठाकरे के नाम है। इसमें लिखा गया है कि पिछले ढाई साल से मुख्यमंत्री उद्धव ठाकरे के आधिकारिक आवास 'वर्षा' के दरवाजे शिवसेना विधायकों के लिए बंद थे। कल सही मायनों में इस बंगले के दरवाजे जनता के लिए खुले हैं। मुख्यमंत्री उद्धव ठाकरे ने कल फेसबुक लाइव पर संबोधन के बाद अपना आधिकारिक आवास खाली कर दिया था और निजी आवास पर लौट आए हैं। संबोधन के दौरान उन्होंने कहा था कि वो इस्तीफा देने को तैयार हैं। शिरसाट ने अपने पत्र में आरोप लगाया है कि 'वर्षा' में प्रवेश पाने के लिए मुख्यमंत्री के आसपास रहने वाले लोगों की मनुहार करनी पड़ती थी, जो कभी चुनाव जीतकर नहीं आए। शिवसेना विधायकों को कभी बंगले में सीधा प्रवेश नहीं मिला। महाराष्ट्र में हाल ही में संपन्न हुए विधान परिषद चुनावों का संदर्भ देते हुए लिखा गया है कि कुछ तथाकथित चाणक्य क्लर्क विधायकों को दरकिनार कर राज्यसभा और विधान परिषद के चुनावों की रणनीति बना रहे थे। उसका क्या हाल हुआ, यह पूरे महाराष्ट्र ने देखा है। गौरतलब है कि राज्यसभा और विधान परिषद के चुनावों में शिवसेना, राकांपा और कांग्रेस के गठबंधन को अपेक्षित सफलता नहीं मिली और भाजपा ने बेहतर प्रदर्शन किया था। शिंदे की तरफ से जारी किए पत्र में विधायक ने लिखा है कि आमतौर पर मुख्यमंत्री मंत्रालय की छठी मंजिल पर सबसे मिलते हैं, लेकिन ठाकरे कभी मंत्रालय गए ही नहीं। विधानसभा क्षेत्रों के काम या अन्य मुद्दों पर बात करने के लिए विनती करने के बाद भी मुख्यमंत्री से मिलने नहीं दिया जाता और विधायकों को घंटों इंतजार करना पड़ता था। चाणक्य क्लर्क फोन नहीं उठाते थे और अंत में निराश होकर वहां से निकलना पड़ता। इस पत्र में आगे आरोप लगाया गया है कि राष्ट्रवादी कांग्रेस पार्टी और कांग्रेस शिवसेना विधायकों के साथ अपमान कर रही थी। विधानसभा क्षेत्रों की खराब हालात, विधायक निधी और अधिकारियों की तरफ से हो रहे अपमान समेत विधायकों की सभी शिकायतें एकनाथ शिंदे ही सुन रहे थे और उनका समाधान कर रहे थे। मुख्यमंत्री ने कभी विधायकों को सुनने की जहमत नहीं उठाई। इसलिए सभी विधायक न्याय अधिकार के लिए शिंदे के पीछे होने को मजबूर हुए हैं। शिरसाट ने अपने पत्र में लिखा है कि जब आदित्य ठाकरे अयोध्या गए थे, तब मुख्यमंत्री ने विधायकों को वहां जाने से क्यों रोका था। विमान में बैठे विधायकों को वापस बुलाया गया था। विधायकों को रामलला के दर्शन क्यों नहीं करने दिए? एकनाथ शिंदे की बगावत के बाद उद्धव ठाकरे की मुख्यमंत्री की कुर्सी जाना तय माना जा रहा है। उन्होंने कल ही संकेत दे दिए थे कि वो इस्तीफा देने को तैयार हैं और बाद में उन्होंने मुख्यमंत्री आवास भी खाली कर दिया था। दूसरी तरफ शिंदे का समर्थन करने वाले विधायकों की संख्या लगातार बढ़ रही है। खबरें हैं कि वो शिवसेना के चुनाव चिन्ह पर भी दावा ठोंक सकते हैं। ऐसे में ठाकरे की मुश्किलें और बढ़ जाएंगी।\n"
          ]
        }
      ]
    },
    {
      "cell_type": "markdown",
      "source": [],
      "metadata": {
        "id": "FrKyW7WbnPi1"
      }
    }
  ],
  "metadata": {
    "colab": {
      "provenance": [],
      "collapsed_sections": [
        "2p-Gge3N1__z",
        "Imei6ixEu24v",
        "cFfk8oFRwpX-",
        "D6P9JKyiXMSZ",
        "gO7fsLO-6ADC",
        "erot_EdcsVGB",
        "XNNIslrqgZFr",
        "oWlQPZpVhvEx",
        "uaZmr8u4ucVP",
        "V0qwipGYGGT6",
        "3wXyat289Plt"
      ],
      "authorship_tag": "ABX9TyP62uVX770WpKdp+t8i11cU",
      "include_colab_link": true
    },
    "kernelspec": {
      "display_name": "Python 3",
      "name": "python3"
    },
    "language_info": {
      "name": "python"
    }
  },
  "nbformat": 4,
  "nbformat_minor": 0
}